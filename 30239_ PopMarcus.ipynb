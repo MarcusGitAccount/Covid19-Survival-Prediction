{
 "cells": [
  {
   "cell_type": "code",
   "execution_count": 2,
   "metadata": {},
   "outputs": [],
   "source": [
    "%matplotlib inline\n",
    "\n",
    "import matplotlib.pyplot as plt\n",
    "import numpy as np\n",
    "import pandas as pd\n",
    "import re\n",
    "import datetime"
   ]
  },
  {
   "cell_type": "markdown",
   "metadata": {},
   "source": [
    "<a href=\"https://datarepository.wolframcloud.com/resources/Patient-Medical-Data-for-Novel-Coronavirus-COVID-19\">Dataset link.</a>"
   ]
  },
  {
   "cell_type": "code",
   "execution_count": 3,
   "metadata": {},
   "outputs": [],
   "source": [
    "df = pd.read_csv('data.csv')"
   ]
  },
  {
   "cell_type": "code",
   "execution_count": 4,
   "metadata": {},
   "outputs": [
    {
     "data": {
      "text/html": [
       "<div>\n",
       "<style scoped>\n",
       "    .dataframe tbody tr th:only-of-type {\n",
       "        vertical-align: middle;\n",
       "    }\n",
       "\n",
       "    .dataframe tbody tr th {\n",
       "        vertical-align: top;\n",
       "    }\n",
       "\n",
       "    .dataframe thead th {\n",
       "        text-align: right;\n",
       "    }\n",
       "</style>\n",
       "<table border=\"1\" class=\"dataframe\">\n",
       "  <thead>\n",
       "    <tr style=\"text-align: right;\">\n",
       "      <th></th>\n",
       "      <th>Age</th>\n",
       "      <th>Sex</th>\n",
       "      <th>City</th>\n",
       "      <th>AdministrativeDivision</th>\n",
       "      <th>Country</th>\n",
       "      <th>GeoPosition</th>\n",
       "      <th>DateOfOnsetSymptoms</th>\n",
       "      <th>DateOfAdmissionHospital</th>\n",
       "      <th>DateOfConfirmation</th>\n",
       "      <th>Symptoms</th>\n",
       "      <th>...</th>\n",
       "      <th>TravelHistoryLocation</th>\n",
       "      <th>ReportedMarketExposure</th>\n",
       "      <th>ReportedMarketExposureComment</th>\n",
       "      <th>ChronicDiseaseQ</th>\n",
       "      <th>ChronicDiseases</th>\n",
       "      <th>SequenceAvailable</th>\n",
       "      <th>DischargedQ</th>\n",
       "      <th>DeathQ</th>\n",
       "      <th>DateOfDeath</th>\n",
       "      <th>DateOfDischarge</th>\n",
       "    </tr>\n",
       "  </thead>\n",
       "  <tbody>\n",
       "    <tr>\n",
       "      <th>0</th>\n",
       "      <td>48</td>\n",
       "      <td>Entity[\"Gender\", \"Female\"]</td>\n",
       "      <td>Entity[\"City\", {\"Wuhan\", \"Hubei\", \"China\"}]</td>\n",
       "      <td>Entity[\"AdministrativeDivision\", {\"Hubei\", \"Ch...</td>\n",
       "      <td>Entity[\"Country\", \"China\"]</td>\n",
       "      <td>GeoPosition[{30.625059999999998, 114.3421}]</td>\n",
       "      <td>DateObject[{2019, 12, 10}, \"Day\", \"Gregorian\",...</td>\n",
       "      <td>DateObject[{2019, 12, 10}, \"Day\", \"Gregorian\",...</td>\n",
       "      <td>Missing[\"NotAvailable\"]</td>\n",
       "      <td>{\"cough\", \"fatigue\", \"fever\", \"sputum\", \"myalg...</td>\n",
       "      <td>...</td>\n",
       "      <td>Missing[\"NotAvailable\"]</td>\n",
       "      <td>Missing[\"NotAvailable\"]</td>\n",
       "      <td>Missing[\"NotAvailable\"]</td>\n",
       "      <td>True</td>\n",
       "      <td>{\"diabetes\", \"cerebral infarction\"}</td>\n",
       "      <td>Missing[\"NotAvailable\"]</td>\n",
       "      <td>Missing[\"NotAvailable\"]</td>\n",
       "      <td>True</td>\n",
       "      <td>DateObject[{2020, 1, 20}, \"Day\", \"Gregorian\", ...</td>\n",
       "      <td>Missing[\"NotAvailable\"]</td>\n",
       "    </tr>\n",
       "    <tr>\n",
       "      <th>1</th>\n",
       "      <td>Interval[{15, 88}]</td>\n",
       "      <td>Entity[\"Gender\", \"Female\"]</td>\n",
       "      <td>Entity[\"City\", {\"Wuhan\", \"Hubei\", \"China\"}]</td>\n",
       "      <td>Entity[\"AdministrativeDivision\", {\"Hubei\", \"Ch...</td>\n",
       "      <td>Entity[\"Country\", \"China\"]</td>\n",
       "      <td>GeoPosition[{30.625059999999998, 114.3421}]</td>\n",
       "      <td>DateObject[{2019, 12, 10}, \"Day\", \"Gregorian\",...</td>\n",
       "      <td>DateObject[{2019, 12, 31}, \"Day\", \"Gregorian\",...</td>\n",
       "      <td>Missing[\"NotAvailable\"]</td>\n",
       "      <td>{\"shortness of breath\", \"respiratory symptoms\"}</td>\n",
       "      <td>...</td>\n",
       "      <td>Missing[\"NotAvailable\"]</td>\n",
       "      <td>Missing[\"NotAvailable\"]</td>\n",
       "      <td>Missing[\"NotAvailable\"]</td>\n",
       "      <td>False</td>\n",
       "      <td>Missing[\"NotAvailable\"]</td>\n",
       "      <td>Missing[\"NotAvailable\"]</td>\n",
       "      <td>Missing[\"NotAvailable\"]</td>\n",
       "      <td>True</td>\n",
       "      <td>Missing[\"NotAvailable\"]</td>\n",
       "      <td>Missing[\"NotAvailable\"]</td>\n",
       "    </tr>\n",
       "    <tr>\n",
       "      <th>2</th>\n",
       "      <td>61</td>\n",
       "      <td>Entity[\"Gender\", \"Male\"]</td>\n",
       "      <td>Entity[\"City\", {\"Wuhan\", \"Hubei\", \"China\"}]</td>\n",
       "      <td>Entity[\"AdministrativeDivision\", {\"Hubei\", \"Ch...</td>\n",
       "      <td>Entity[\"Country\", \"China\"]</td>\n",
       "      <td>GeoPosition[{30.625059999999998, 114.3421}]</td>\n",
       "      <td>DateObject[{2019, 12, 20}, \"Day\", \"Gregorian\",...</td>\n",
       "      <td>DateObject[{2019, 12, 27}, \"Day\", \"Gregorian\",...</td>\n",
       "      <td>Missing[\"NotAvailable\"]</td>\n",
       "      <td>Missing[\"NotAvailable\"]</td>\n",
       "      <td>...</td>\n",
       "      <td>Missing[\"NotAvailable\"]</td>\n",
       "      <td>Missing[\"NotAvailable\"]</td>\n",
       "      <td>Missing[\"NotAvailable\"]</td>\n",
       "      <td>False</td>\n",
       "      <td>Missing[\"NotAvailable\"]</td>\n",
       "      <td>True</td>\n",
       "      <td>Missing[\"NotAvailable\"]</td>\n",
       "      <td>True</td>\n",
       "      <td>DateObject[{2020, 1, 9}, \"Day\", \"Gregorian\", -5.]</td>\n",
       "      <td>Missing[\"NotAvailable\"]</td>\n",
       "    </tr>\n",
       "    <tr>\n",
       "      <th>3</th>\n",
       "      <td>58</td>\n",
       "      <td>Entity[\"Gender\", \"Male\"]</td>\n",
       "      <td>Entity[\"City\", {\"Wuhan\", \"Hubei\", \"China\"}]</td>\n",
       "      <td>Entity[\"AdministrativeDivision\", {\"Hubei\", \"Ch...</td>\n",
       "      <td>Entity[\"Country\", \"China\"]</td>\n",
       "      <td>GeoPosition[{30.625059999999998, 114.3421}]</td>\n",
       "      <td>DateObject[{2019, 12, 22}, \"Day\", \"Gregorian\",...</td>\n",
       "      <td>DateObject[{2020, 1, 1}, \"Day\", \"Gregorian\", -5.]</td>\n",
       "      <td>Missing[\"NotAvailable\"]</td>\n",
       "      <td>{\"cough\", \"sputum\", \"fever\"}</td>\n",
       "      <td>...</td>\n",
       "      <td>Missing[\"NotAvailable\"]</td>\n",
       "      <td>Missing[\"NotAvailable\"]</td>\n",
       "      <td>Missing[\"NotAvailable\"]</td>\n",
       "      <td>False</td>\n",
       "      <td>Missing[\"NotAvailable\"]</td>\n",
       "      <td>Missing[\"NotAvailable\"]</td>\n",
       "      <td>Missing[\"NotAvailable\"]</td>\n",
       "      <td>True</td>\n",
       "      <td>DateObject[{2020, 1, 23}, \"Day\", \"Gregorian\", ...</td>\n",
       "      <td>Missing[\"NotAvailable\"]</td>\n",
       "    </tr>\n",
       "    <tr>\n",
       "      <th>4</th>\n",
       "      <td>66</td>\n",
       "      <td>Entity[\"Gender\", \"Male\"]</td>\n",
       "      <td>Entity[\"City\", {\"Wuhan\", \"Hubei\", \"China\"}]</td>\n",
       "      <td>Entity[\"AdministrativeDivision\", {\"Hubei\", \"Ch...</td>\n",
       "      <td>Entity[\"Country\", \"China\"]</td>\n",
       "      <td>GeoPosition[{30.625059999999998, 114.3421}]</td>\n",
       "      <td>DateObject[{2019, 12, 22}, \"Day\", \"Gregorian\",...</td>\n",
       "      <td>DateObject[{2019, 12, 31}, \"Day\", \"Gregorian\",...</td>\n",
       "      <td>Missing[\"NotAvailable\"]</td>\n",
       "      <td>{\"cough\"}</td>\n",
       "      <td>...</td>\n",
       "      <td>Missing[\"NotAvailable\"]</td>\n",
       "      <td>Missing[\"NotAvailable\"]</td>\n",
       "      <td>Missing[\"NotAvailable\"]</td>\n",
       "      <td>False</td>\n",
       "      <td>Missing[\"NotAvailable\"]</td>\n",
       "      <td>Missing[\"NotAvailable\"]</td>\n",
       "      <td>Missing[\"NotAvailable\"]</td>\n",
       "      <td>True</td>\n",
       "      <td>DateObject[{2020, 1, 21}, \"Day\", \"Gregorian\", ...</td>\n",
       "      <td>Missing[\"NotAvailable\"]</td>\n",
       "    </tr>\n",
       "  </tbody>\n",
       "</table>\n",
       "<p>5 rows × 23 columns</p>\n",
       "</div>"
      ],
      "text/plain": [
       "                  Age                         Sex  \\\n",
       "0                  48  Entity[\"Gender\", \"Female\"]   \n",
       "1  Interval[{15, 88}]  Entity[\"Gender\", \"Female\"]   \n",
       "2                  61    Entity[\"Gender\", \"Male\"]   \n",
       "3                  58    Entity[\"Gender\", \"Male\"]   \n",
       "4                  66    Entity[\"Gender\", \"Male\"]   \n",
       "\n",
       "                                          City  \\\n",
       "0  Entity[\"City\", {\"Wuhan\", \"Hubei\", \"China\"}]   \n",
       "1  Entity[\"City\", {\"Wuhan\", \"Hubei\", \"China\"}]   \n",
       "2  Entity[\"City\", {\"Wuhan\", \"Hubei\", \"China\"}]   \n",
       "3  Entity[\"City\", {\"Wuhan\", \"Hubei\", \"China\"}]   \n",
       "4  Entity[\"City\", {\"Wuhan\", \"Hubei\", \"China\"}]   \n",
       "\n",
       "                              AdministrativeDivision  \\\n",
       "0  Entity[\"AdministrativeDivision\", {\"Hubei\", \"Ch...   \n",
       "1  Entity[\"AdministrativeDivision\", {\"Hubei\", \"Ch...   \n",
       "2  Entity[\"AdministrativeDivision\", {\"Hubei\", \"Ch...   \n",
       "3  Entity[\"AdministrativeDivision\", {\"Hubei\", \"Ch...   \n",
       "4  Entity[\"AdministrativeDivision\", {\"Hubei\", \"Ch...   \n",
       "\n",
       "                      Country                                  GeoPosition  \\\n",
       "0  Entity[\"Country\", \"China\"]  GeoPosition[{30.625059999999998, 114.3421}]   \n",
       "1  Entity[\"Country\", \"China\"]  GeoPosition[{30.625059999999998, 114.3421}]   \n",
       "2  Entity[\"Country\", \"China\"]  GeoPosition[{30.625059999999998, 114.3421}]   \n",
       "3  Entity[\"Country\", \"China\"]  GeoPosition[{30.625059999999998, 114.3421}]   \n",
       "4  Entity[\"Country\", \"China\"]  GeoPosition[{30.625059999999998, 114.3421}]   \n",
       "\n",
       "                                 DateOfOnsetSymptoms  \\\n",
       "0  DateObject[{2019, 12, 10}, \"Day\", \"Gregorian\",...   \n",
       "1  DateObject[{2019, 12, 10}, \"Day\", \"Gregorian\",...   \n",
       "2  DateObject[{2019, 12, 20}, \"Day\", \"Gregorian\",...   \n",
       "3  DateObject[{2019, 12, 22}, \"Day\", \"Gregorian\",...   \n",
       "4  DateObject[{2019, 12, 22}, \"Day\", \"Gregorian\",...   \n",
       "\n",
       "                             DateOfAdmissionHospital       DateOfConfirmation  \\\n",
       "0  DateObject[{2019, 12, 10}, \"Day\", \"Gregorian\",...  Missing[\"NotAvailable\"]   \n",
       "1  DateObject[{2019, 12, 31}, \"Day\", \"Gregorian\",...  Missing[\"NotAvailable\"]   \n",
       "2  DateObject[{2019, 12, 27}, \"Day\", \"Gregorian\",...  Missing[\"NotAvailable\"]   \n",
       "3  DateObject[{2020, 1, 1}, \"Day\", \"Gregorian\", -5.]  Missing[\"NotAvailable\"]   \n",
       "4  DateObject[{2019, 12, 31}, \"Day\", \"Gregorian\",...  Missing[\"NotAvailable\"]   \n",
       "\n",
       "                                            Symptoms  ...  \\\n",
       "0  {\"cough\", \"fatigue\", \"fever\", \"sputum\", \"myalg...  ...   \n",
       "1    {\"shortness of breath\", \"respiratory symptoms\"}  ...   \n",
       "2                            Missing[\"NotAvailable\"]  ...   \n",
       "3                       {\"cough\", \"sputum\", \"fever\"}  ...   \n",
       "4                                          {\"cough\"}  ...   \n",
       "\n",
       "     TravelHistoryLocation   ReportedMarketExposure  \\\n",
       "0  Missing[\"NotAvailable\"]  Missing[\"NotAvailable\"]   \n",
       "1  Missing[\"NotAvailable\"]  Missing[\"NotAvailable\"]   \n",
       "2  Missing[\"NotAvailable\"]  Missing[\"NotAvailable\"]   \n",
       "3  Missing[\"NotAvailable\"]  Missing[\"NotAvailable\"]   \n",
       "4  Missing[\"NotAvailable\"]  Missing[\"NotAvailable\"]   \n",
       "\n",
       "  ReportedMarketExposureComment ChronicDiseaseQ  \\\n",
       "0       Missing[\"NotAvailable\"]            True   \n",
       "1       Missing[\"NotAvailable\"]           False   \n",
       "2       Missing[\"NotAvailable\"]           False   \n",
       "3       Missing[\"NotAvailable\"]           False   \n",
       "4       Missing[\"NotAvailable\"]           False   \n",
       "\n",
       "                       ChronicDiseases        SequenceAvailable  \\\n",
       "0  {\"diabetes\", \"cerebral infarction\"}  Missing[\"NotAvailable\"]   \n",
       "1              Missing[\"NotAvailable\"]  Missing[\"NotAvailable\"]   \n",
       "2              Missing[\"NotAvailable\"]                     True   \n",
       "3              Missing[\"NotAvailable\"]  Missing[\"NotAvailable\"]   \n",
       "4              Missing[\"NotAvailable\"]  Missing[\"NotAvailable\"]   \n",
       "\n",
       "               DischargedQ DeathQ  \\\n",
       "0  Missing[\"NotAvailable\"]   True   \n",
       "1  Missing[\"NotAvailable\"]   True   \n",
       "2  Missing[\"NotAvailable\"]   True   \n",
       "3  Missing[\"NotAvailable\"]   True   \n",
       "4  Missing[\"NotAvailable\"]   True   \n",
       "\n",
       "                                         DateOfDeath          DateOfDischarge  \n",
       "0  DateObject[{2020, 1, 20}, \"Day\", \"Gregorian\", ...  Missing[\"NotAvailable\"]  \n",
       "1                            Missing[\"NotAvailable\"]  Missing[\"NotAvailable\"]  \n",
       "2  DateObject[{2020, 1, 9}, \"Day\", \"Gregorian\", -5.]  Missing[\"NotAvailable\"]  \n",
       "3  DateObject[{2020, 1, 23}, \"Day\", \"Gregorian\", ...  Missing[\"NotAvailable\"]  \n",
       "4  DateObject[{2020, 1, 21}, \"Day\", \"Gregorian\", ...  Missing[\"NotAvailable\"]  \n",
       "\n",
       "[5 rows x 23 columns]"
      ]
     },
     "execution_count": 4,
     "metadata": {},
     "output_type": "execute_result"
    }
   ],
   "source": [
    "df.head()"
   ]
  },
  {
   "cell_type": "code",
   "execution_count": 5,
   "metadata": {},
   "outputs": [
    {
     "data": {
      "text/html": [
       "<div>\n",
       "<style scoped>\n",
       "    .dataframe tbody tr th:only-of-type {\n",
       "        vertical-align: middle;\n",
       "    }\n",
       "\n",
       "    .dataframe tbody tr th {\n",
       "        vertical-align: top;\n",
       "    }\n",
       "\n",
       "    .dataframe thead th {\n",
       "        text-align: right;\n",
       "    }\n",
       "</style>\n",
       "<table border=\"1\" class=\"dataframe\">\n",
       "  <thead>\n",
       "    <tr style=\"text-align: right;\">\n",
       "      <th></th>\n",
       "      <th>Age</th>\n",
       "      <th>Sex</th>\n",
       "      <th>City</th>\n",
       "      <th>AdministrativeDivision</th>\n",
       "      <th>Country</th>\n",
       "      <th>GeoPosition</th>\n",
       "      <th>DateOfOnsetSymptoms</th>\n",
       "      <th>DateOfAdmissionHospital</th>\n",
       "      <th>DateOfConfirmation</th>\n",
       "      <th>Symptoms</th>\n",
       "      <th>...</th>\n",
       "      <th>TravelHistoryLocation</th>\n",
       "      <th>ReportedMarketExposure</th>\n",
       "      <th>ReportedMarketExposureComment</th>\n",
       "      <th>ChronicDiseaseQ</th>\n",
       "      <th>ChronicDiseases</th>\n",
       "      <th>SequenceAvailable</th>\n",
       "      <th>DischargedQ</th>\n",
       "      <th>DeathQ</th>\n",
       "      <th>DateOfDeath</th>\n",
       "      <th>DateOfDischarge</th>\n",
       "    </tr>\n",
       "  </thead>\n",
       "  <tbody>\n",
       "    <tr>\n",
       "      <th>count</th>\n",
       "      <td>19467</td>\n",
       "      <td>19467</td>\n",
       "      <td>19467</td>\n",
       "      <td>19467</td>\n",
       "      <td>19467</td>\n",
       "      <td>19467</td>\n",
       "      <td>19467</td>\n",
       "      <td>19467</td>\n",
       "      <td>19467</td>\n",
       "      <td>19467</td>\n",
       "      <td>...</td>\n",
       "      <td>19467</td>\n",
       "      <td>19467</td>\n",
       "      <td>19467</td>\n",
       "      <td>19467</td>\n",
       "      <td>19467</td>\n",
       "      <td>19467</td>\n",
       "      <td>19467</td>\n",
       "      <td>19467</td>\n",
       "      <td>19467</td>\n",
       "      <td>19467</td>\n",
       "    </tr>\n",
       "    <tr>\n",
       "      <th>unique</th>\n",
       "      <td>209</td>\n",
       "      <td>3</td>\n",
       "      <td>720</td>\n",
       "      <td>463</td>\n",
       "      <td>137</td>\n",
       "      <td>1834</td>\n",
       "      <td>103</td>\n",
       "      <td>83</td>\n",
       "      <td>123</td>\n",
       "      <td>319</td>\n",
       "      <td>...</td>\n",
       "      <td>587</td>\n",
       "      <td>3</td>\n",
       "      <td>7</td>\n",
       "      <td>2</td>\n",
       "      <td>67</td>\n",
       "      <td>2</td>\n",
       "      <td>2</td>\n",
       "      <td>2</td>\n",
       "      <td>40</td>\n",
       "      <td>66</td>\n",
       "    </tr>\n",
       "    <tr>\n",
       "      <th>top</th>\n",
       "      <td>Missing[\"NotAvailable\"]</td>\n",
       "      <td>Entity[\"Gender\", \"Male\"]</td>\n",
       "      <td>Missing[\"NotAvailable\"]</td>\n",
       "      <td>Missing[\"NotAvailable\"]</td>\n",
       "      <td>Entity[\"Country\", \"UnitedStates\"]</td>\n",
       "      <td>GeoPosition[{25.6135986, -80.565963}]</td>\n",
       "      <td>Missing[\"NotAvailable\"]</td>\n",
       "      <td>Missing[\"NotAvailable\"]</td>\n",
       "      <td>DateObject[{2020, 3, 26}, \"Day\", \"Gregorian\", ...</td>\n",
       "      <td>Missing[\"NotAvailable\"]</td>\n",
       "      <td>...</td>\n",
       "      <td>Missing[\"NotAvailable\"]</td>\n",
       "      <td>Missing[\"NotAvailable\"]</td>\n",
       "      <td>Missing[\"NotAvailable\"]</td>\n",
       "      <td>False</td>\n",
       "      <td>Missing[\"NotAvailable\"]</td>\n",
       "      <td>Missing[\"NotAvailable\"]</td>\n",
       "      <td>Missing[\"NotAvailable\"]</td>\n",
       "      <td>Missing[\"NotAvailable\"]</td>\n",
       "      <td>Missing[\"NotAvailable\"]</td>\n",
       "      <td>Missing[\"NotAvailable\"]</td>\n",
       "    </tr>\n",
       "    <tr>\n",
       "      <th>freq</th>\n",
       "      <td>2083</td>\n",
       "      <td>9717</td>\n",
       "      <td>12178</td>\n",
       "      <td>4226</td>\n",
       "      <td>6002</td>\n",
       "      <td>1079</td>\n",
       "      <td>15119</td>\n",
       "      <td>17601</td>\n",
       "      <td>1380</td>\n",
       "      <td>17781</td>\n",
       "      <td>...</td>\n",
       "      <td>14355</td>\n",
       "      <td>19392</td>\n",
       "      <td>19454</td>\n",
       "      <td>18717</td>\n",
       "      <td>19318</td>\n",
       "      <td>19461</td>\n",
       "      <td>19370</td>\n",
       "      <td>19317</td>\n",
       "      <td>19321</td>\n",
       "      <td>19106</td>\n",
       "    </tr>\n",
       "  </tbody>\n",
       "</table>\n",
       "<p>4 rows × 23 columns</p>\n",
       "</div>"
      ],
      "text/plain": [
       "                            Age                       Sex  \\\n",
       "count                     19467                     19467   \n",
       "unique                      209                         3   \n",
       "top     Missing[\"NotAvailable\"]  Entity[\"Gender\", \"Male\"]   \n",
       "freq                       2083                      9717   \n",
       "\n",
       "                           City   AdministrativeDivision  \\\n",
       "count                     19467                    19467   \n",
       "unique                      720                      463   \n",
       "top     Missing[\"NotAvailable\"]  Missing[\"NotAvailable\"]   \n",
       "freq                      12178                     4226   \n",
       "\n",
       "                                  Country  \\\n",
       "count                               19467   \n",
       "unique                                137   \n",
       "top     Entity[\"Country\", \"UnitedStates\"]   \n",
       "freq                                 6002   \n",
       "\n",
       "                                  GeoPosition      DateOfOnsetSymptoms  \\\n",
       "count                                   19467                    19467   \n",
       "unique                                   1834                      103   \n",
       "top     GeoPosition[{25.6135986, -80.565963}]  Missing[\"NotAvailable\"]   \n",
       "freq                                     1079                    15119   \n",
       "\n",
       "        DateOfAdmissionHospital  \\\n",
       "count                     19467   \n",
       "unique                       83   \n",
       "top     Missing[\"NotAvailable\"]   \n",
       "freq                      17601   \n",
       "\n",
       "                                       DateOfConfirmation  \\\n",
       "count                                               19467   \n",
       "unique                                                123   \n",
       "top     DateObject[{2020, 3, 26}, \"Day\", \"Gregorian\", ...   \n",
       "freq                                                 1380   \n",
       "\n",
       "                       Symptoms  ...    TravelHistoryLocation  \\\n",
       "count                     19467  ...                    19467   \n",
       "unique                      319  ...                      587   \n",
       "top     Missing[\"NotAvailable\"]  ...  Missing[\"NotAvailable\"]   \n",
       "freq                      17781  ...                    14355   \n",
       "\n",
       "         ReportedMarketExposure ReportedMarketExposureComment ChronicDiseaseQ  \\\n",
       "count                     19467                         19467           19467   \n",
       "unique                        3                             7               2   \n",
       "top     Missing[\"NotAvailable\"]       Missing[\"NotAvailable\"]           False   \n",
       "freq                      19392                         19454           18717   \n",
       "\n",
       "                ChronicDiseases        SequenceAvailable  \\\n",
       "count                     19467                    19467   \n",
       "unique                       67                        2   \n",
       "top     Missing[\"NotAvailable\"]  Missing[\"NotAvailable\"]   \n",
       "freq                      19318                    19461   \n",
       "\n",
       "                    DischargedQ                   DeathQ  \\\n",
       "count                     19467                    19467   \n",
       "unique                        2                        2   \n",
       "top     Missing[\"NotAvailable\"]  Missing[\"NotAvailable\"]   \n",
       "freq                      19370                    19317   \n",
       "\n",
       "                    DateOfDeath          DateOfDischarge  \n",
       "count                     19467                    19467  \n",
       "unique                       40                       66  \n",
       "top     Missing[\"NotAvailable\"]  Missing[\"NotAvailable\"]  \n",
       "freq                      19321                    19106  \n",
       "\n",
       "[4 rows x 23 columns]"
      ]
     },
     "execution_count": 5,
     "metadata": {},
     "output_type": "execute_result"
    }
   ],
   "source": [
    "df.describe()"
   ]
  },
  {
   "cell_type": "markdown",
   "metadata": {},
   "source": [
    "#### As we can we, the dataset is rather imbalanced"
   ]
  },
  {
   "cell_type": "code",
   "execution_count": 6,
   "metadata": {},
   "outputs": [
    {
     "data": {
      "text/plain": [
       "Missing[\"NotAvailable\"]    19317\n",
       "True                         150\n",
       "Name: DeathQ, dtype: int64"
      ]
     },
     "execution_count": 6,
     "metadata": {},
     "output_type": "execute_result"
    }
   ],
   "source": [
    "df['DeathQ'].value_counts()"
   ]
  },
  {
   "cell_type": "markdown",
   "metadata": {},
   "source": [
    "### One hot encoding for travel history\n",
    "\n",
    "Travel history location data is represented as a string of entities depicting the path the pacient has taken through different map points.\n",
    "\n",
    "For a better representation we are going to represent it using one hot encoding using the unique locations as bits for the following reasons:\n",
    "- we are not interested in order, just simply the locations\n",
    "- it is easier to work and represent data in this way"
   ]
  },
  {
   "cell_type": "code",
   "execution_count": 7,
   "metadata": {},
   "outputs": [
    {
     "data": {
      "text/html": [
       "<div>\n",
       "<style scoped>\n",
       "    .dataframe tbody tr th:only-of-type {\n",
       "        vertical-align: middle;\n",
       "    }\n",
       "\n",
       "    .dataframe tbody tr th {\n",
       "        vertical-align: top;\n",
       "    }\n",
       "\n",
       "    .dataframe thead th {\n",
       "        text-align: right;\n",
       "    }\n",
       "</style>\n",
       "<table border=\"1\" class=\"dataframe\">\n",
       "  <thead>\n",
       "    <tr style=\"text-align: right;\">\n",
       "      <th></th>\n",
       "      <th>Entity[\"AdministrativeDivision\", {\"AbuDhabi\", \"UnitedArabEmirates\"}]</th>\n",
       "      <th>Entity[\"AdministrativeDivision\", {\"Accra\", \"GreaterAccra\", \"Ghana\"}]</th>\n",
       "      <th>Entity[\"AdministrativeDivision\", {\"AddisAbaba\", \"Ethiopia\"}]</th>\n",
       "      <th>Entity[\"AdministrativeDivision\", {\"Aichi\", \"Japan\"}]</th>\n",
       "      <th>Entity[\"AdministrativeDivision\", {\"Alabama\", \"UnitedStates\"}]</th>\n",
       "      <th>Entity[\"AdministrativeDivision\", {\"Alberta\", \"Canada\"}]</th>\n",
       "      <th>Entity[\"AdministrativeDivision\", {\"Alsace\", \"France\"}]</th>\n",
       "      <th>Entity[\"AdministrativeDivision\", {\"Amsterdam\", \"NoordHolland\", \"Netherlands\"}]</th>\n",
       "      <th>Entity[\"AdministrativeDivision\", {\"Andalo\", \"Trento\", \"TrentinoAltoAdige\", \"Italy\"}]</th>\n",
       "      <th>Entity[\"AdministrativeDivision\", {\"Anhui\", \"China\"}]</th>\n",
       "      <th>...</th>\n",
       "      <th>Entity[\"Country\", \"UnitedStates\"]</th>\n",
       "      <th>Entity[\"Country\", \"Uruguay\"]</th>\n",
       "      <th>Entity[\"Country\", \"VaticanCity\"]</th>\n",
       "      <th>Entity[\"Country\", \"Venezuela\"]</th>\n",
       "      <th>Entity[\"Country\", \"Vietnam\"]</th>\n",
       "      <th>Entity[\"Country\", \"Zambia\"]</th>\n",
       "      <th>Entity[\"Country\", \"Zimbabwe\"]</th>\n",
       "      <th>Entity[\"GeographicRegion\", \"Africa\"]</th>\n",
       "      <th>Entity[\"GeographicRegion\", \"Asia\"]</th>\n",
       "      <th>Entity[\"GeographicRegion\", \"Europe\"]</th>\n",
       "    </tr>\n",
       "  </thead>\n",
       "  <tbody>\n",
       "    <tr>\n",
       "      <th>0</th>\n",
       "      <td>False</td>\n",
       "      <td>False</td>\n",
       "      <td>False</td>\n",
       "      <td>False</td>\n",
       "      <td>False</td>\n",
       "      <td>False</td>\n",
       "      <td>False</td>\n",
       "      <td>False</td>\n",
       "      <td>False</td>\n",
       "      <td>False</td>\n",
       "      <td>...</td>\n",
       "      <td>False</td>\n",
       "      <td>False</td>\n",
       "      <td>False</td>\n",
       "      <td>False</td>\n",
       "      <td>False</td>\n",
       "      <td>False</td>\n",
       "      <td>False</td>\n",
       "      <td>False</td>\n",
       "      <td>False</td>\n",
       "      <td>False</td>\n",
       "    </tr>\n",
       "    <tr>\n",
       "      <th>1</th>\n",
       "      <td>False</td>\n",
       "      <td>False</td>\n",
       "      <td>False</td>\n",
       "      <td>False</td>\n",
       "      <td>False</td>\n",
       "      <td>False</td>\n",
       "      <td>False</td>\n",
       "      <td>False</td>\n",
       "      <td>False</td>\n",
       "      <td>False</td>\n",
       "      <td>...</td>\n",
       "      <td>False</td>\n",
       "      <td>False</td>\n",
       "      <td>False</td>\n",
       "      <td>False</td>\n",
       "      <td>False</td>\n",
       "      <td>False</td>\n",
       "      <td>False</td>\n",
       "      <td>False</td>\n",
       "      <td>False</td>\n",
       "      <td>False</td>\n",
       "    </tr>\n",
       "    <tr>\n",
       "      <th>2</th>\n",
       "      <td>False</td>\n",
       "      <td>False</td>\n",
       "      <td>False</td>\n",
       "      <td>False</td>\n",
       "      <td>False</td>\n",
       "      <td>False</td>\n",
       "      <td>False</td>\n",
       "      <td>False</td>\n",
       "      <td>False</td>\n",
       "      <td>False</td>\n",
       "      <td>...</td>\n",
       "      <td>False</td>\n",
       "      <td>False</td>\n",
       "      <td>False</td>\n",
       "      <td>False</td>\n",
       "      <td>False</td>\n",
       "      <td>False</td>\n",
       "      <td>False</td>\n",
       "      <td>False</td>\n",
       "      <td>False</td>\n",
       "      <td>False</td>\n",
       "    </tr>\n",
       "    <tr>\n",
       "      <th>3</th>\n",
       "      <td>False</td>\n",
       "      <td>False</td>\n",
       "      <td>False</td>\n",
       "      <td>False</td>\n",
       "      <td>False</td>\n",
       "      <td>False</td>\n",
       "      <td>False</td>\n",
       "      <td>False</td>\n",
       "      <td>False</td>\n",
       "      <td>False</td>\n",
       "      <td>...</td>\n",
       "      <td>False</td>\n",
       "      <td>False</td>\n",
       "      <td>False</td>\n",
       "      <td>False</td>\n",
       "      <td>False</td>\n",
       "      <td>False</td>\n",
       "      <td>False</td>\n",
       "      <td>False</td>\n",
       "      <td>False</td>\n",
       "      <td>False</td>\n",
       "    </tr>\n",
       "    <tr>\n",
       "      <th>4</th>\n",
       "      <td>False</td>\n",
       "      <td>False</td>\n",
       "      <td>False</td>\n",
       "      <td>False</td>\n",
       "      <td>False</td>\n",
       "      <td>False</td>\n",
       "      <td>False</td>\n",
       "      <td>False</td>\n",
       "      <td>False</td>\n",
       "      <td>False</td>\n",
       "      <td>...</td>\n",
       "      <td>False</td>\n",
       "      <td>False</td>\n",
       "      <td>False</td>\n",
       "      <td>False</td>\n",
       "      <td>False</td>\n",
       "      <td>False</td>\n",
       "      <td>False</td>\n",
       "      <td>False</td>\n",
       "      <td>False</td>\n",
       "      <td>False</td>\n",
       "    </tr>\n",
       "  </tbody>\n",
       "</table>\n",
       "<p>5 rows × 362 columns</p>\n",
       "</div>"
      ],
      "text/plain": [
       "   Entity[\"AdministrativeDivision\", {\"AbuDhabi\", \"UnitedArabEmirates\"}]  \\\n",
       "0                                              False                      \n",
       "1                                              False                      \n",
       "2                                              False                      \n",
       "3                                              False                      \n",
       "4                                              False                      \n",
       "\n",
       "   Entity[\"AdministrativeDivision\", {\"Accra\", \"GreaterAccra\", \"Ghana\"}]  \\\n",
       "0                                              False                      \n",
       "1                                              False                      \n",
       "2                                              False                      \n",
       "3                                              False                      \n",
       "4                                              False                      \n",
       "\n",
       "   Entity[\"AdministrativeDivision\", {\"AddisAbaba\", \"Ethiopia\"}]  \\\n",
       "0                                              False              \n",
       "1                                              False              \n",
       "2                                              False              \n",
       "3                                              False              \n",
       "4                                              False              \n",
       "\n",
       "   Entity[\"AdministrativeDivision\", {\"Aichi\", \"Japan\"}]  \\\n",
       "0                                              False      \n",
       "1                                              False      \n",
       "2                                              False      \n",
       "3                                              False      \n",
       "4                                              False      \n",
       "\n",
       "   Entity[\"AdministrativeDivision\", {\"Alabama\", \"UnitedStates\"}]  \\\n",
       "0                                              False               \n",
       "1                                              False               \n",
       "2                                              False               \n",
       "3                                              False               \n",
       "4                                              False               \n",
       "\n",
       "   Entity[\"AdministrativeDivision\", {\"Alberta\", \"Canada\"}]  \\\n",
       "0                                              False         \n",
       "1                                              False         \n",
       "2                                              False         \n",
       "3                                              False         \n",
       "4                                              False         \n",
       "\n",
       "   Entity[\"AdministrativeDivision\", {\"Alsace\", \"France\"}]  \\\n",
       "0                                              False        \n",
       "1                                              False        \n",
       "2                                              False        \n",
       "3                                              False        \n",
       "4                                              False        \n",
       "\n",
       "   Entity[\"AdministrativeDivision\", {\"Amsterdam\", \"NoordHolland\", \"Netherlands\"}]  \\\n",
       "0                                              False                                \n",
       "1                                              False                                \n",
       "2                                              False                                \n",
       "3                                              False                                \n",
       "4                                              False                                \n",
       "\n",
       "   Entity[\"AdministrativeDivision\", {\"Andalo\", \"Trento\", \"TrentinoAltoAdige\", \"Italy\"}]  \\\n",
       "0                                              False                                      \n",
       "1                                              False                                      \n",
       "2                                              False                                      \n",
       "3                                              False                                      \n",
       "4                                              False                                      \n",
       "\n",
       "   Entity[\"AdministrativeDivision\", {\"Anhui\", \"China\"}]  ...  \\\n",
       "0                                              False     ...   \n",
       "1                                              False     ...   \n",
       "2                                              False     ...   \n",
       "3                                              False     ...   \n",
       "4                                              False     ...   \n",
       "\n",
       "   Entity[\"Country\", \"UnitedStates\"]  Entity[\"Country\", \"Uruguay\"]  \\\n",
       "0                              False                         False   \n",
       "1                              False                         False   \n",
       "2                              False                         False   \n",
       "3                              False                         False   \n",
       "4                              False                         False   \n",
       "\n",
       "   Entity[\"Country\", \"VaticanCity\"]  Entity[\"Country\", \"Venezuela\"]  \\\n",
       "0                             False                           False   \n",
       "1                             False                           False   \n",
       "2                             False                           False   \n",
       "3                             False                           False   \n",
       "4                             False                           False   \n",
       "\n",
       "   Entity[\"Country\", \"Vietnam\"]  Entity[\"Country\", \"Zambia\"]  \\\n",
       "0                         False                        False   \n",
       "1                         False                        False   \n",
       "2                         False                        False   \n",
       "3                         False                        False   \n",
       "4                         False                        False   \n",
       "\n",
       "   Entity[\"Country\", \"Zimbabwe\"]  Entity[\"GeographicRegion\", \"Africa\"]  \\\n",
       "0                          False                                 False   \n",
       "1                          False                                 False   \n",
       "2                          False                                 False   \n",
       "3                          False                                 False   \n",
       "4                          False                                 False   \n",
       "\n",
       "   Entity[\"GeographicRegion\", \"Asia\"]  Entity[\"GeographicRegion\", \"Europe\"]  \n",
       "0                               False                                 False  \n",
       "1                               False                                 False  \n",
       "2                               False                                 False  \n",
       "3                               False                                 False  \n",
       "4                               False                                 False  \n",
       "\n",
       "[5 rows x 362 columns]"
      ]
     },
     "execution_count": 7,
     "metadata": {},
     "output_type": "execute_result"
    }
   ],
   "source": [
    "# transform travel history from locations string to list of locations\n",
    "travel_col = 'TravelHistoryLocation'\n",
    "transform = lambda x: re.findall(r\"Entity\\[[^\\]\\[]+\\]\", x)\n",
    "travel_lists = df[travel_col].apply(transform)\n",
    "# get the unique locations found in the dataset\n",
    "locs = np.concatenate(travel_lists.values)\n",
    "unique_locs = np.unique(locs)\n",
    "# transform travel history from list to one hot encoding\n",
    "onehot = np.array([np.in1d(unique_locs, list_col) for list_col in travel_lists])\n",
    "# create new dataframe using the unique locations as column headers\n",
    "onehot_frame = pd.DataFrame(onehot, columns=unique_locs)\n",
    "onehot_frame.head()"
   ]
  },
  {
   "cell_type": "code",
   "execution_count": 8,
   "metadata": {},
   "outputs": [],
   "source": [
    "# drop the old travel history column from the origin data frame\n",
    "travel_dropped = df.drop(columns=['TravelHistoryLocation'], axis=1)\n",
    "df = pd.concat([travel_dropped, onehot_frame], axis=1)"
   ]
  },
  {
   "cell_type": "markdown",
   "metadata": {},
   "source": [
    "#### Splitting the geoposition entities into latitude and longitude, plus dropping the now redundant location features"
   ]
  },
  {
   "cell_type": "code",
   "execution_count": 9,
   "metadata": {},
   "outputs": [
    {
     "data": {
      "text/html": [
       "<div>\n",
       "<style scoped>\n",
       "    .dataframe tbody tr th:only-of-type {\n",
       "        vertical-align: middle;\n",
       "    }\n",
       "\n",
       "    .dataframe tbody tr th {\n",
       "        vertical-align: top;\n",
       "    }\n",
       "\n",
       "    .dataframe thead th {\n",
       "        text-align: right;\n",
       "    }\n",
       "</style>\n",
       "<table border=\"1\" class=\"dataframe\">\n",
       "  <thead>\n",
       "    <tr style=\"text-align: right;\">\n",
       "      <th></th>\n",
       "      <th>Latitude</th>\n",
       "      <th>Longitude</th>\n",
       "    </tr>\n",
       "  </thead>\n",
       "  <tbody>\n",
       "    <tr>\n",
       "      <th>count</th>\n",
       "      <td>19467.000000</td>\n",
       "      <td>19467.000000</td>\n",
       "    </tr>\n",
       "    <tr>\n",
       "      <th>mean</th>\n",
       "      <td>22.315788</td>\n",
       "      <td>-12.287439</td>\n",
       "    </tr>\n",
       "    <tr>\n",
       "      <th>std</th>\n",
       "      <td>18.706135</td>\n",
       "      <td>93.692944</td>\n",
       "    </tr>\n",
       "    <tr>\n",
       "      <th>min</th>\n",
       "      <td>-43.570000</td>\n",
       "      <td>-159.727596</td>\n",
       "    </tr>\n",
       "    <tr>\n",
       "      <th>25%</th>\n",
       "      <td>15.369250</td>\n",
       "      <td>-82.308992</td>\n",
       "    </tr>\n",
       "    <tr>\n",
       "      <th>50%</th>\n",
       "      <td>25.613599</td>\n",
       "      <td>-77.015390</td>\n",
       "    </tr>\n",
       "    <tr>\n",
       "      <th>75%</th>\n",
       "      <td>33.727220</td>\n",
       "      <td>106.174300</td>\n",
       "    </tr>\n",
       "    <tr>\n",
       "      <th>max</th>\n",
       "      <td>69.649468</td>\n",
       "      <td>174.740000</td>\n",
       "    </tr>\n",
       "  </tbody>\n",
       "</table>\n",
       "</div>"
      ],
      "text/plain": [
       "           Latitude     Longitude\n",
       "count  19467.000000  19467.000000\n",
       "mean      22.315788    -12.287439\n",
       "std       18.706135     93.692944\n",
       "min      -43.570000   -159.727596\n",
       "25%       15.369250    -82.308992\n",
       "50%       25.613599    -77.015390\n",
       "75%       33.727220    106.174300\n",
       "max       69.649468    174.740000"
      ]
     },
     "execution_count": 9,
     "metadata": {},
     "output_type": "execute_result"
    }
   ],
   "source": [
    "# transform the geoposition column in two seperate column(lat, long)\n",
    "transform = lambda x: [float(x) for x in re.findall(r\"[+-]?[0-9]*[.]?[0-9]+\", x)]\n",
    "latlong = df['GeoPosition'].apply(transform).values\n",
    "# from array of lists to ndarray\n",
    "latlong = np.vstack(latlong)\n",
    "latlong_frame=pd.DataFrame(latlong, columns=['Latitude', 'Longitude'])\n",
    "latlong_frame.describe()"
   ]
  },
  {
   "cell_type": "code",
   "execution_count": 10,
   "metadata": {},
   "outputs": [
    {
     "data": {
      "text/html": [
       "<div>\n",
       "<style scoped>\n",
       "    .dataframe tbody tr th:only-of-type {\n",
       "        vertical-align: middle;\n",
       "    }\n",
       "\n",
       "    .dataframe tbody tr th {\n",
       "        vertical-align: top;\n",
       "    }\n",
       "\n",
       "    .dataframe thead th {\n",
       "        text-align: right;\n",
       "    }\n",
       "</style>\n",
       "<table border=\"1\" class=\"dataframe\">\n",
       "  <thead>\n",
       "    <tr style=\"text-align: right;\">\n",
       "      <th></th>\n",
       "      <th>Age</th>\n",
       "      <th>Sex</th>\n",
       "      <th>DateOfOnsetSymptoms</th>\n",
       "      <th>DateOfAdmissionHospital</th>\n",
       "      <th>DateOfConfirmation</th>\n",
       "      <th>Symptoms</th>\n",
       "      <th>LivesInWuhan</th>\n",
       "      <th>LivesInWuhanComment</th>\n",
       "      <th>TravelHistoryDates</th>\n",
       "      <th>ReportedMarketExposure</th>\n",
       "      <th>...</th>\n",
       "      <th>Entity[\"Country\", \"VaticanCity\"]</th>\n",
       "      <th>Entity[\"Country\", \"Venezuela\"]</th>\n",
       "      <th>Entity[\"Country\", \"Vietnam\"]</th>\n",
       "      <th>Entity[\"Country\", \"Zambia\"]</th>\n",
       "      <th>Entity[\"Country\", \"Zimbabwe\"]</th>\n",
       "      <th>Entity[\"GeographicRegion\", \"Africa\"]</th>\n",
       "      <th>Entity[\"GeographicRegion\", \"Asia\"]</th>\n",
       "      <th>Entity[\"GeographicRegion\", \"Europe\"]</th>\n",
       "      <th>Latitude</th>\n",
       "      <th>Longitude</th>\n",
       "    </tr>\n",
       "  </thead>\n",
       "  <tbody>\n",
       "    <tr>\n",
       "      <th>0</th>\n",
       "      <td>48</td>\n",
       "      <td>Entity[\"Gender\", \"Female\"]</td>\n",
       "      <td>DateObject[{2019, 12, 10}, \"Day\", \"Gregorian\",...</td>\n",
       "      <td>DateObject[{2019, 12, 10}, \"Day\", \"Gregorian\",...</td>\n",
       "      <td>Missing[\"NotAvailable\"]</td>\n",
       "      <td>{\"cough\", \"fatigue\", \"fever\", \"sputum\", \"myalg...</td>\n",
       "      <td>True</td>\n",
       "      <td>Missing[\"NotAvailable\"]</td>\n",
       "      <td>Missing[\"NotAvailable\"]</td>\n",
       "      <td>Missing[\"NotAvailable\"]</td>\n",
       "      <td>...</td>\n",
       "      <td>False</td>\n",
       "      <td>False</td>\n",
       "      <td>False</td>\n",
       "      <td>False</td>\n",
       "      <td>False</td>\n",
       "      <td>False</td>\n",
       "      <td>False</td>\n",
       "      <td>False</td>\n",
       "      <td>30.62506</td>\n",
       "      <td>114.3421</td>\n",
       "    </tr>\n",
       "    <tr>\n",
       "      <th>1</th>\n",
       "      <td>Interval[{15, 88}]</td>\n",
       "      <td>Entity[\"Gender\", \"Female\"]</td>\n",
       "      <td>DateObject[{2019, 12, 10}, \"Day\", \"Gregorian\",...</td>\n",
       "      <td>DateObject[{2019, 12, 31}, \"Day\", \"Gregorian\",...</td>\n",
       "      <td>Missing[\"NotAvailable\"]</td>\n",
       "      <td>{\"shortness of breath\", \"respiratory symptoms\"}</td>\n",
       "      <td>Missing[\"NotAvailable\"]</td>\n",
       "      <td>Missing[\"NotAvailable\"]</td>\n",
       "      <td>Missing[\"NotAvailable\"]</td>\n",
       "      <td>Missing[\"NotAvailable\"]</td>\n",
       "      <td>...</td>\n",
       "      <td>False</td>\n",
       "      <td>False</td>\n",
       "      <td>False</td>\n",
       "      <td>False</td>\n",
       "      <td>False</td>\n",
       "      <td>False</td>\n",
       "      <td>False</td>\n",
       "      <td>False</td>\n",
       "      <td>30.62506</td>\n",
       "      <td>114.3421</td>\n",
       "    </tr>\n",
       "    <tr>\n",
       "      <th>2</th>\n",
       "      <td>61</td>\n",
       "      <td>Entity[\"Gender\", \"Male\"]</td>\n",
       "      <td>DateObject[{2019, 12, 20}, \"Day\", \"Gregorian\",...</td>\n",
       "      <td>DateObject[{2019, 12, 27}, \"Day\", \"Gregorian\",...</td>\n",
       "      <td>Missing[\"NotAvailable\"]</td>\n",
       "      <td>Missing[\"NotAvailable\"]</td>\n",
       "      <td>True</td>\n",
       "      <td>Missing[\"NotAvailable\"]</td>\n",
       "      <td>Missing[\"NotAvailable\"]</td>\n",
       "      <td>Missing[\"NotAvailable\"]</td>\n",
       "      <td>...</td>\n",
       "      <td>False</td>\n",
       "      <td>False</td>\n",
       "      <td>False</td>\n",
       "      <td>False</td>\n",
       "      <td>False</td>\n",
       "      <td>False</td>\n",
       "      <td>False</td>\n",
       "      <td>False</td>\n",
       "      <td>30.62506</td>\n",
       "      <td>114.3421</td>\n",
       "    </tr>\n",
       "    <tr>\n",
       "      <th>3</th>\n",
       "      <td>58</td>\n",
       "      <td>Entity[\"Gender\", \"Male\"]</td>\n",
       "      <td>DateObject[{2019, 12, 22}, \"Day\", \"Gregorian\",...</td>\n",
       "      <td>DateObject[{2020, 1, 1}, \"Day\", \"Gregorian\", -5.]</td>\n",
       "      <td>Missing[\"NotAvailable\"]</td>\n",
       "      <td>{\"cough\", \"sputum\", \"fever\"}</td>\n",
       "      <td>True</td>\n",
       "      <td>Missing[\"NotAvailable\"]</td>\n",
       "      <td>Missing[\"NotAvailable\"]</td>\n",
       "      <td>Missing[\"NotAvailable\"]</td>\n",
       "      <td>...</td>\n",
       "      <td>False</td>\n",
       "      <td>False</td>\n",
       "      <td>False</td>\n",
       "      <td>False</td>\n",
       "      <td>False</td>\n",
       "      <td>False</td>\n",
       "      <td>False</td>\n",
       "      <td>False</td>\n",
       "      <td>30.62506</td>\n",
       "      <td>114.3421</td>\n",
       "    </tr>\n",
       "    <tr>\n",
       "      <th>4</th>\n",
       "      <td>66</td>\n",
       "      <td>Entity[\"Gender\", \"Male\"]</td>\n",
       "      <td>DateObject[{2019, 12, 22}, \"Day\", \"Gregorian\",...</td>\n",
       "      <td>DateObject[{2019, 12, 31}, \"Day\", \"Gregorian\",...</td>\n",
       "      <td>Missing[\"NotAvailable\"]</td>\n",
       "      <td>{\"cough\"}</td>\n",
       "      <td>True</td>\n",
       "      <td>Missing[\"NotAvailable\"]</td>\n",
       "      <td>Missing[\"NotAvailable\"]</td>\n",
       "      <td>Missing[\"NotAvailable\"]</td>\n",
       "      <td>...</td>\n",
       "      <td>False</td>\n",
       "      <td>False</td>\n",
       "      <td>False</td>\n",
       "      <td>False</td>\n",
       "      <td>False</td>\n",
       "      <td>False</td>\n",
       "      <td>False</td>\n",
       "      <td>False</td>\n",
       "      <td>30.62506</td>\n",
       "      <td>114.3421</td>\n",
       "    </tr>\n",
       "  </tbody>\n",
       "</table>\n",
       "<p>5 rows × 382 columns</p>\n",
       "</div>"
      ],
      "text/plain": [
       "                  Age                         Sex  \\\n",
       "0                  48  Entity[\"Gender\", \"Female\"]   \n",
       "1  Interval[{15, 88}]  Entity[\"Gender\", \"Female\"]   \n",
       "2                  61    Entity[\"Gender\", \"Male\"]   \n",
       "3                  58    Entity[\"Gender\", \"Male\"]   \n",
       "4                  66    Entity[\"Gender\", \"Male\"]   \n",
       "\n",
       "                                 DateOfOnsetSymptoms  \\\n",
       "0  DateObject[{2019, 12, 10}, \"Day\", \"Gregorian\",...   \n",
       "1  DateObject[{2019, 12, 10}, \"Day\", \"Gregorian\",...   \n",
       "2  DateObject[{2019, 12, 20}, \"Day\", \"Gregorian\",...   \n",
       "3  DateObject[{2019, 12, 22}, \"Day\", \"Gregorian\",...   \n",
       "4  DateObject[{2019, 12, 22}, \"Day\", \"Gregorian\",...   \n",
       "\n",
       "                             DateOfAdmissionHospital       DateOfConfirmation  \\\n",
       "0  DateObject[{2019, 12, 10}, \"Day\", \"Gregorian\",...  Missing[\"NotAvailable\"]   \n",
       "1  DateObject[{2019, 12, 31}, \"Day\", \"Gregorian\",...  Missing[\"NotAvailable\"]   \n",
       "2  DateObject[{2019, 12, 27}, \"Day\", \"Gregorian\",...  Missing[\"NotAvailable\"]   \n",
       "3  DateObject[{2020, 1, 1}, \"Day\", \"Gregorian\", -5.]  Missing[\"NotAvailable\"]   \n",
       "4  DateObject[{2019, 12, 31}, \"Day\", \"Gregorian\",...  Missing[\"NotAvailable\"]   \n",
       "\n",
       "                                            Symptoms             LivesInWuhan  \\\n",
       "0  {\"cough\", \"fatigue\", \"fever\", \"sputum\", \"myalg...                     True   \n",
       "1    {\"shortness of breath\", \"respiratory symptoms\"}  Missing[\"NotAvailable\"]   \n",
       "2                            Missing[\"NotAvailable\"]                     True   \n",
       "3                       {\"cough\", \"sputum\", \"fever\"}                     True   \n",
       "4                                          {\"cough\"}                     True   \n",
       "\n",
       "       LivesInWuhanComment       TravelHistoryDates   ReportedMarketExposure  \\\n",
       "0  Missing[\"NotAvailable\"]  Missing[\"NotAvailable\"]  Missing[\"NotAvailable\"]   \n",
       "1  Missing[\"NotAvailable\"]  Missing[\"NotAvailable\"]  Missing[\"NotAvailable\"]   \n",
       "2  Missing[\"NotAvailable\"]  Missing[\"NotAvailable\"]  Missing[\"NotAvailable\"]   \n",
       "3  Missing[\"NotAvailable\"]  Missing[\"NotAvailable\"]  Missing[\"NotAvailable\"]   \n",
       "4  Missing[\"NotAvailable\"]  Missing[\"NotAvailable\"]  Missing[\"NotAvailable\"]   \n",
       "\n",
       "   ... Entity[\"Country\", \"VaticanCity\"]  Entity[\"Country\", \"Venezuela\"]  \\\n",
       "0  ...                            False                           False   \n",
       "1  ...                            False                           False   \n",
       "2  ...                            False                           False   \n",
       "3  ...                            False                           False   \n",
       "4  ...                            False                           False   \n",
       "\n",
       "  Entity[\"Country\", \"Vietnam\"] Entity[\"Country\", \"Zambia\"]  \\\n",
       "0                        False                       False   \n",
       "1                        False                       False   \n",
       "2                        False                       False   \n",
       "3                        False                       False   \n",
       "4                        False                       False   \n",
       "\n",
       "  Entity[\"Country\", \"Zimbabwe\"] Entity[\"GeographicRegion\", \"Africa\"]  \\\n",
       "0                         False                                False   \n",
       "1                         False                                False   \n",
       "2                         False                                False   \n",
       "3                         False                                False   \n",
       "4                         False                                False   \n",
       "\n",
       "  Entity[\"GeographicRegion\", \"Asia\"] Entity[\"GeographicRegion\", \"Europe\"]  \\\n",
       "0                              False                                False   \n",
       "1                              False                                False   \n",
       "2                              False                                False   \n",
       "3                              False                                False   \n",
       "4                              False                                False   \n",
       "\n",
       "   Latitude  Longitude  \n",
       "0  30.62506   114.3421  \n",
       "1  30.62506   114.3421  \n",
       "2  30.62506   114.3421  \n",
       "3  30.62506   114.3421  \n",
       "4  30.62506   114.3421  \n",
       "\n",
       "[5 rows x 382 columns]"
      ]
     },
     "execution_count": 10,
     "metadata": {},
     "output_type": "execute_result"
    }
   ],
   "source": [
    "# drop redundant location columns and add the latitude/longitude frame\n",
    "loc_dropped = df.drop(columns=['City', 'AdministrativeDivision', 'Country', 'GeoPosition'], axis=1)\n",
    "df = pd.concat([loc_dropped, latlong_frame], axis=1)\n",
    "df.head()"
   ]
  },
  {
   "cell_type": "markdown",
   "metadata": {},
   "source": [
    "Transforming the age entities and dealing with age intervals"
   ]
  },
  {
   "cell_type": "code",
   "execution_count": 11,
   "metadata": {},
   "outputs": [],
   "source": [
    "def age_transform(data):\n",
    "    numbers = re.findall(r'[0-9]+', data)\n",
    "    numbers = [int(x) for x in numbers]\n",
    "    if len(numbers) == 1:\n",
    "        return numbers[0]\n",
    "    # age interval\n",
    "    return sum(numbers) >> 1"
   ]
  },
  {
   "cell_type": "code",
   "execution_count": 12,
   "metadata": {},
   "outputs": [
    {
     "data": {
      "text/plain": [
       "<matplotlib.axes._subplots.AxesSubplot at 0x7f69f3af21d0>"
      ]
     },
     "execution_count": 12,
     "metadata": {},
     "output_type": "execute_result"
    },
    {
     "data": {
      "image/png": "[encoded data removed]",
      "text/plain": [
       "<Figure size 432x288 with 1 Axes>"
      ]
     },
     "metadata": {
      "needs_background": "light"
     },
     "output_type": "display_data"
    }
   ],
   "source": [
    "df['Age'] = df['Age'].apply(age_transform)\n",
    "df['Age'].hist()"
   ]
  },
  {
   "cell_type": "markdown",
   "metadata": {},
   "source": [
    "Transforming gender entities and filling missing data such that it mantains the initial distribution(where missing data is not counted) because it is a known fact that the disease is more prevalent among men(56% cases in the initial distribution)."
   ]
  },
  {
   "cell_type": "code",
   "execution_count": 13,
   "metadata": {},
   "outputs": [],
   "source": [
    "def gender_transform(data):\n",
    "    match = re.search(r\"Male|Female\", data)\n",
    "    if not match:\n",
    "        return None\n",
    "    return match.group()"
   ]
  },
  {
   "cell_type": "code",
   "execution_count": 14,
   "metadata": {},
   "outputs": [],
   "source": [
    "df['Sex'] = df['Sex'].apply(gender_transform)"
   ]
  },
  {
   "cell_type": "code",
   "execution_count": 15,
   "metadata": {},
   "outputs": [
    {
     "name": "stdout",
     "output_type": "stream",
     "text": [
      "Male      0.560704\n",
      "Female    0.439296\n",
      "Name: Sex, dtype: float64\n",
      "\n",
      "count     17330\n",
      "unique        2\n",
      "top        Male\n",
      "freq       9717\n",
      "Name: Sex, dtype: object\n"
     ]
    }
   ],
   "source": [
    "counts = df['Sex'].value_counts(normalize=True)\n",
    "print(counts, end=\"\\n\\n\")\n",
    "print(df['Sex'].describe())"
   ]
  },
  {
   "cell_type": "code",
   "execution_count": 16,
   "metadata": {},
   "outputs": [
    {
     "name": "stdout",
     "output_type": "stream",
     "text": [
      "Number of missing gender data: 2137\n"
     ]
    }
   ],
   "source": [
    "missing = df['Sex'].isnull()\n",
    "missing_size =  len(missing.index[missing == True])\n",
    "print('Number of missing gender data:', missing_size)"
   ]
  },
  {
   "cell_type": "code",
   "execution_count": 17,
   "metadata": {},
   "outputs": [],
   "source": [
    "# fill missing data and mantain the distribution\n",
    "fillers = ['Male' if np.random.random() <  counts.values[0] else 'Female' for _ in range(missing_size)]\n",
    "df.loc[missing, 'Sex'] = fillers"
   ]
  },
  {
   "cell_type": "code",
   "execution_count": 18,
   "metadata": {},
   "outputs": [
    {
     "name": "stdout",
     "output_type": "stream",
     "text": [
      "Male      0.561566\n",
      "Female    0.438434\n",
      "Name: Sex, dtype: float64\n",
      "\n",
      "count     19467\n",
      "unique        2\n",
      "top        Male\n",
      "freq      10932\n",
      "Name: Sex, dtype: object\n"
     ]
    }
   ],
   "source": [
    "print(df['Sex'].value_counts(normalize=True), end=\"\\n\\n\")\n",
    "print(df['Sex'].describe())"
   ]
  },
  {
   "cell_type": "code",
   "execution_count": 19,
   "metadata": {},
   "outputs": [
    {
     "data": {
      "text/plain": [
       "array(['Missing[\"NotAvailable\"]', 'True', 'False'], dtype=object)"
      ]
     },
     "execution_count": 19,
     "metadata": {},
     "output_type": "execute_result"
    }
   ],
   "source": [
    "df['ReportedMarketExposure'].unique()"
   ]
  },
  {
   "cell_type": "markdown",
   "metadata": {},
   "source": [
    "Computing delta(days) between DateOfAdmissionHospital and DateOfOnsetSymptoms\n",
    "because data is more representative than actual dates.\n",
    "\n",
    "Filling in missing values with the mean."
   ]
  },
  {
   "cell_type": "code",
   "execution_count": 20,
   "metadata": {},
   "outputs": [],
   "source": [
    "def date_transform(entity):\n",
    "    pattern = r\"[0-9]+\"\n",
    "    found = [int(x) for x in re.findall(pattern, entity)]\n",
    "    if re.search(r'^DateInterval', entity):\n",
    "        try:\n",
    "            # try to find midpoint\n",
    "            start = datetime.date(*found[0:3])\n",
    "            end   = datetime.date(*found[3:6])\n",
    "            mid = start + (end - start) / 2\n",
    "            return mid\n",
    "        except:\n",
    "            # try and catch because of examples such this one...\n",
    "            # DateInterval[{{{-Infinity, 1, 1}, {2020, 2, 25}}}, \"Day\", \"Gregorian\", -5.]\n",
    "            # i mean wtf\n",
    "            return np.nan\n",
    "    \n",
    "    if len(found) == 0: # missing data\n",
    "        return np.nan\n",
    "    # unpacking array to function arguments\n",
    "    date = datetime.date(*found[:3])\n",
    "    return date"
   ]
  },
  {
   "cell_type": "code",
   "execution_count": 21,
   "metadata": {},
   "outputs": [
    {
     "name": "stdout",
     "output_type": "stream",
     "text": [
      "count    1111.000000\n",
      "mean        5.295230\n",
      "std         4.880847\n",
      "min         1.000000\n",
      "25%         2.000000\n",
      "50%         4.000000\n",
      "75%         7.000000\n",
      "max        50.000000\n",
      "dtype: float64\n"
     ]
    }
   ],
   "source": [
    "adms_col  = 'DateOfAdmissionHospital'\n",
    "onset_col = 'DateOfOnsetSymptoms'\n",
    "delta_col = 'SymptomsAdmissionDelta'\n",
    "\n",
    "delta_df = df[adms_col].apply(date_transform) - df[onset_col].apply(date_transform)\n",
    "delta_df = delta_df.apply(lambda x: abs(x.days) if x else np.nan)\n",
    "print(delta_df.describe())"
   ]
  },
  {
   "cell_type": "code",
   "execution_count": 22,
   "metadata": {},
   "outputs": [
    {
     "data": {
      "text/plain": [
       "<matplotlib.axes._subplots.AxesSubplot at 0x7f69f282ca10>"
      ]
     },
     "execution_count": 22,
     "metadata": {},
     "output_type": "execute_result"
    },
    {
     "data": {
      "image/png": "[encoded data removed]",
      "text/plain": [
       "<Figure size 432x288 with 1 Axes>"
      ]
     },
     "metadata": {
      "needs_background": "light"
     },
     "output_type": "display_data"
    }
   ],
   "source": [
    "delta_df.hist()"
   ]
  },
  {
   "cell_type": "code",
   "execution_count": 23,
   "metadata": {},
   "outputs": [
    {
     "data": {
      "text/html": [
       "<div>\n",
       "<style scoped>\n",
       "    .dataframe tbody tr th:only-of-type {\n",
       "        vertical-align: middle;\n",
       "    }\n",
       "\n",
       "    .dataframe tbody tr th {\n",
       "        vertical-align: top;\n",
       "    }\n",
       "\n",
       "    .dataframe thead th {\n",
       "        text-align: right;\n",
       "    }\n",
       "</style>\n",
       "<table border=\"1\" class=\"dataframe\">\n",
       "  <thead>\n",
       "    <tr style=\"text-align: right;\">\n",
       "      <th></th>\n",
       "      <th>Age</th>\n",
       "      <th>Sex</th>\n",
       "      <th>DateOfConfirmation</th>\n",
       "      <th>Symptoms</th>\n",
       "      <th>LivesInWuhan</th>\n",
       "      <th>LivesInWuhanComment</th>\n",
       "      <th>TravelHistoryDates</th>\n",
       "      <th>ReportedMarketExposure</th>\n",
       "      <th>ReportedMarketExposureComment</th>\n",
       "      <th>ChronicDiseaseQ</th>\n",
       "      <th>...</th>\n",
       "      <th>Entity[\"Country\", \"Venezuela\"]</th>\n",
       "      <th>Entity[\"Country\", \"Vietnam\"]</th>\n",
       "      <th>Entity[\"Country\", \"Zambia\"]</th>\n",
       "      <th>Entity[\"Country\", \"Zimbabwe\"]</th>\n",
       "      <th>Entity[\"GeographicRegion\", \"Africa\"]</th>\n",
       "      <th>Entity[\"GeographicRegion\", \"Asia\"]</th>\n",
       "      <th>Entity[\"GeographicRegion\", \"Europe\"]</th>\n",
       "      <th>Latitude</th>\n",
       "      <th>Longitude</th>\n",
       "      <th>SymptomsAdmissionDelta</th>\n",
       "    </tr>\n",
       "  </thead>\n",
       "  <tbody>\n",
       "    <tr>\n",
       "      <th>0</th>\n",
       "      <td>48</td>\n",
       "      <td>Female</td>\n",
       "      <td>Missing[\"NotAvailable\"]</td>\n",
       "      <td>{\"cough\", \"fatigue\", \"fever\", \"sputum\", \"myalg...</td>\n",
       "      <td>True</td>\n",
       "      <td>Missing[\"NotAvailable\"]</td>\n",
       "      <td>Missing[\"NotAvailable\"]</td>\n",
       "      <td>Missing[\"NotAvailable\"]</td>\n",
       "      <td>Missing[\"NotAvailable\"]</td>\n",
       "      <td>True</td>\n",
       "      <td>...</td>\n",
       "      <td>False</td>\n",
       "      <td>False</td>\n",
       "      <td>False</td>\n",
       "      <td>False</td>\n",
       "      <td>False</td>\n",
       "      <td>False</td>\n",
       "      <td>False</td>\n",
       "      <td>30.62506</td>\n",
       "      <td>114.3421</td>\n",
       "      <td>5.29523</td>\n",
       "    </tr>\n",
       "    <tr>\n",
       "      <th>1</th>\n",
       "      <td>51</td>\n",
       "      <td>Female</td>\n",
       "      <td>Missing[\"NotAvailable\"]</td>\n",
       "      <td>{\"shortness of breath\", \"respiratory symptoms\"}</td>\n",
       "      <td>Missing[\"NotAvailable\"]</td>\n",
       "      <td>Missing[\"NotAvailable\"]</td>\n",
       "      <td>Missing[\"NotAvailable\"]</td>\n",
       "      <td>Missing[\"NotAvailable\"]</td>\n",
       "      <td>Missing[\"NotAvailable\"]</td>\n",
       "      <td>False</td>\n",
       "      <td>...</td>\n",
       "      <td>False</td>\n",
       "      <td>False</td>\n",
       "      <td>False</td>\n",
       "      <td>False</td>\n",
       "      <td>False</td>\n",
       "      <td>False</td>\n",
       "      <td>False</td>\n",
       "      <td>30.62506</td>\n",
       "      <td>114.3421</td>\n",
       "      <td>21.00000</td>\n",
       "    </tr>\n",
       "    <tr>\n",
       "      <th>2</th>\n",
       "      <td>61</td>\n",
       "      <td>Male</td>\n",
       "      <td>Missing[\"NotAvailable\"]</td>\n",
       "      <td>Missing[\"NotAvailable\"]</td>\n",
       "      <td>True</td>\n",
       "      <td>Missing[\"NotAvailable\"]</td>\n",
       "      <td>Missing[\"NotAvailable\"]</td>\n",
       "      <td>Missing[\"NotAvailable\"]</td>\n",
       "      <td>Missing[\"NotAvailable\"]</td>\n",
       "      <td>False</td>\n",
       "      <td>...</td>\n",
       "      <td>False</td>\n",
       "      <td>False</td>\n",
       "      <td>False</td>\n",
       "      <td>False</td>\n",
       "      <td>False</td>\n",
       "      <td>False</td>\n",
       "      <td>False</td>\n",
       "      <td>30.62506</td>\n",
       "      <td>114.3421</td>\n",
       "      <td>7.00000</td>\n",
       "    </tr>\n",
       "    <tr>\n",
       "      <th>3</th>\n",
       "      <td>58</td>\n",
       "      <td>Male</td>\n",
       "      <td>Missing[\"NotAvailable\"]</td>\n",
       "      <td>{\"cough\", \"sputum\", \"fever\"}</td>\n",
       "      <td>True</td>\n",
       "      <td>Missing[\"NotAvailable\"]</td>\n",
       "      <td>Missing[\"NotAvailable\"]</td>\n",
       "      <td>Missing[\"NotAvailable\"]</td>\n",
       "      <td>Missing[\"NotAvailable\"]</td>\n",
       "      <td>False</td>\n",
       "      <td>...</td>\n",
       "      <td>False</td>\n",
       "      <td>False</td>\n",
       "      <td>False</td>\n",
       "      <td>False</td>\n",
       "      <td>False</td>\n",
       "      <td>False</td>\n",
       "      <td>False</td>\n",
       "      <td>30.62506</td>\n",
       "      <td>114.3421</td>\n",
       "      <td>10.00000</td>\n",
       "    </tr>\n",
       "    <tr>\n",
       "      <th>4</th>\n",
       "      <td>66</td>\n",
       "      <td>Male</td>\n",
       "      <td>Missing[\"NotAvailable\"]</td>\n",
       "      <td>{\"cough\"}</td>\n",
       "      <td>True</td>\n",
       "      <td>Missing[\"NotAvailable\"]</td>\n",
       "      <td>Missing[\"NotAvailable\"]</td>\n",
       "      <td>Missing[\"NotAvailable\"]</td>\n",
       "      <td>Missing[\"NotAvailable\"]</td>\n",
       "      <td>False</td>\n",
       "      <td>...</td>\n",
       "      <td>False</td>\n",
       "      <td>False</td>\n",
       "      <td>False</td>\n",
       "      <td>False</td>\n",
       "      <td>False</td>\n",
       "      <td>False</td>\n",
       "      <td>False</td>\n",
       "      <td>30.62506</td>\n",
       "      <td>114.3421</td>\n",
       "      <td>9.00000</td>\n",
       "    </tr>\n",
       "  </tbody>\n",
       "</table>\n",
       "<p>5 rows × 381 columns</p>\n",
       "</div>"
      ],
      "text/plain": [
       "   Age     Sex       DateOfConfirmation  \\\n",
       "0   48  Female  Missing[\"NotAvailable\"]   \n",
       "1   51  Female  Missing[\"NotAvailable\"]   \n",
       "2   61    Male  Missing[\"NotAvailable\"]   \n",
       "3   58    Male  Missing[\"NotAvailable\"]   \n",
       "4   66    Male  Missing[\"NotAvailable\"]   \n",
       "\n",
       "                                            Symptoms             LivesInWuhan  \\\n",
       "0  {\"cough\", \"fatigue\", \"fever\", \"sputum\", \"myalg...                     True   \n",
       "1    {\"shortness of breath\", \"respiratory symptoms\"}  Missing[\"NotAvailable\"]   \n",
       "2                            Missing[\"NotAvailable\"]                     True   \n",
       "3                       {\"cough\", \"sputum\", \"fever\"}                     True   \n",
       "4                                          {\"cough\"}                     True   \n",
       "\n",
       "       LivesInWuhanComment       TravelHistoryDates   ReportedMarketExposure  \\\n",
       "0  Missing[\"NotAvailable\"]  Missing[\"NotAvailable\"]  Missing[\"NotAvailable\"]   \n",
       "1  Missing[\"NotAvailable\"]  Missing[\"NotAvailable\"]  Missing[\"NotAvailable\"]   \n",
       "2  Missing[\"NotAvailable\"]  Missing[\"NotAvailable\"]  Missing[\"NotAvailable\"]   \n",
       "3  Missing[\"NotAvailable\"]  Missing[\"NotAvailable\"]  Missing[\"NotAvailable\"]   \n",
       "4  Missing[\"NotAvailable\"]  Missing[\"NotAvailable\"]  Missing[\"NotAvailable\"]   \n",
       "\n",
       "  ReportedMarketExposureComment  ChronicDiseaseQ  ...  \\\n",
       "0       Missing[\"NotAvailable\"]             True  ...   \n",
       "1       Missing[\"NotAvailable\"]            False  ...   \n",
       "2       Missing[\"NotAvailable\"]            False  ...   \n",
       "3       Missing[\"NotAvailable\"]            False  ...   \n",
       "4       Missing[\"NotAvailable\"]            False  ...   \n",
       "\n",
       "  Entity[\"Country\", \"Venezuela\"] Entity[\"Country\", \"Vietnam\"]  \\\n",
       "0                          False                        False   \n",
       "1                          False                        False   \n",
       "2                          False                        False   \n",
       "3                          False                        False   \n",
       "4                          False                        False   \n",
       "\n",
       "  Entity[\"Country\", \"Zambia\"] Entity[\"Country\", \"Zimbabwe\"]  \\\n",
       "0                       False                         False   \n",
       "1                       False                         False   \n",
       "2                       False                         False   \n",
       "3                       False                         False   \n",
       "4                       False                         False   \n",
       "\n",
       "  Entity[\"GeographicRegion\", \"Africa\"] Entity[\"GeographicRegion\", \"Asia\"]  \\\n",
       "0                                False                              False   \n",
       "1                                False                              False   \n",
       "2                                False                              False   \n",
       "3                                False                              False   \n",
       "4                                False                              False   \n",
       "\n",
       "   Entity[\"GeographicRegion\", \"Europe\"]  Latitude  Longitude  \\\n",
       "0                                 False  30.62506   114.3421   \n",
       "1                                 False  30.62506   114.3421   \n",
       "2                                 False  30.62506   114.3421   \n",
       "3                                 False  30.62506   114.3421   \n",
       "4                                 False  30.62506   114.3421   \n",
       "\n",
       "   SymptomsAdmissionDelta  \n",
       "0                 5.29523  \n",
       "1                21.00000  \n",
       "2                 7.00000  \n",
       "3                10.00000  \n",
       "4                 9.00000  \n",
       "\n",
       "[5 rows x 381 columns]"
      ]
     },
     "execution_count": 23,
     "metadata": {},
     "output_type": "execute_result"
    }
   ],
   "source": [
    "delta_df = delta_df.fillna(delta_df.mean())\n",
    "df[delta_col] = delta_df\n",
    "df = df.drop(columns=[adms_col, onset_col])\n",
    "df.head()"
   ]
  },
  {
   "cell_type": "markdown",
   "metadata": {},
   "source": [
    "### One hot encoding for symptoms"
   ]
  },
  {
   "cell_type": "code",
   "execution_count": 24,
   "metadata": {},
   "outputs": [
    {
     "data": {
      "text/html": [
       "<div>\n",
       "<style scoped>\n",
       "    .dataframe tbody tr th:only-of-type {\n",
       "        vertical-align: middle;\n",
       "    }\n",
       "\n",
       "    .dataframe tbody tr th {\n",
       "        vertical-align: top;\n",
       "    }\n",
       "\n",
       "    .dataframe thead th {\n",
       "        text-align: right;\n",
       "    }\n",
       "</style>\n",
       "<table border=\"1\" class=\"dataframe\">\n",
       "  <thead>\n",
       "    <tr style=\"text-align: right;\">\n",
       "      <th></th>\n",
       "      <th>abdominal pain</th>\n",
       "      <th>acute coronary syndrome</th>\n",
       "      <th>acute kidney injury</th>\n",
       "      <th>acute left heart failure</th>\n",
       "      <th>acute myocardial infarction</th>\n",
       "      <th>acute pharyngitis</th>\n",
       "      <th>acute renal failure</th>\n",
       "      <th>acute respiratory disease</th>\n",
       "      <th>acute respiratory disease syndrome</th>\n",
       "      <th>acute respiratory distress syndrome</th>\n",
       "      <th>...</th>\n",
       "      <th>sore limbs</th>\n",
       "      <th>sore muscle</th>\n",
       "      <th>sore throat</th>\n",
       "      <th>sputum</th>\n",
       "      <th>sweating</th>\n",
       "      <th>systemic weakness</th>\n",
       "      <th>toothache</th>\n",
       "      <th>vomiting</th>\n",
       "      <th>weakness</th>\n",
       "      <th>wheezing</th>\n",
       "    </tr>\n",
       "  </thead>\n",
       "  <tbody>\n",
       "    <tr>\n",
       "      <th>0</th>\n",
       "      <td>False</td>\n",
       "      <td>False</td>\n",
       "      <td>False</td>\n",
       "      <td>False</td>\n",
       "      <td>False</td>\n",
       "      <td>False</td>\n",
       "      <td>False</td>\n",
       "      <td>False</td>\n",
       "      <td>False</td>\n",
       "      <td>False</td>\n",
       "      <td>...</td>\n",
       "      <td>False</td>\n",
       "      <td>False</td>\n",
       "      <td>False</td>\n",
       "      <td>True</td>\n",
       "      <td>False</td>\n",
       "      <td>False</td>\n",
       "      <td>False</td>\n",
       "      <td>False</td>\n",
       "      <td>False</td>\n",
       "      <td>False</td>\n",
       "    </tr>\n",
       "    <tr>\n",
       "      <th>1</th>\n",
       "      <td>False</td>\n",
       "      <td>False</td>\n",
       "      <td>False</td>\n",
       "      <td>False</td>\n",
       "      <td>False</td>\n",
       "      <td>False</td>\n",
       "      <td>False</td>\n",
       "      <td>False</td>\n",
       "      <td>False</td>\n",
       "      <td>False</td>\n",
       "      <td>...</td>\n",
       "      <td>False</td>\n",
       "      <td>False</td>\n",
       "      <td>False</td>\n",
       "      <td>False</td>\n",
       "      <td>False</td>\n",
       "      <td>False</td>\n",
       "      <td>False</td>\n",
       "      <td>False</td>\n",
       "      <td>False</td>\n",
       "      <td>False</td>\n",
       "    </tr>\n",
       "    <tr>\n",
       "      <th>2</th>\n",
       "      <td>False</td>\n",
       "      <td>False</td>\n",
       "      <td>False</td>\n",
       "      <td>False</td>\n",
       "      <td>False</td>\n",
       "      <td>False</td>\n",
       "      <td>False</td>\n",
       "      <td>False</td>\n",
       "      <td>False</td>\n",
       "      <td>False</td>\n",
       "      <td>...</td>\n",
       "      <td>False</td>\n",
       "      <td>False</td>\n",
       "      <td>False</td>\n",
       "      <td>False</td>\n",
       "      <td>False</td>\n",
       "      <td>False</td>\n",
       "      <td>False</td>\n",
       "      <td>False</td>\n",
       "      <td>False</td>\n",
       "      <td>False</td>\n",
       "    </tr>\n",
       "    <tr>\n",
       "      <th>3</th>\n",
       "      <td>False</td>\n",
       "      <td>False</td>\n",
       "      <td>False</td>\n",
       "      <td>False</td>\n",
       "      <td>False</td>\n",
       "      <td>False</td>\n",
       "      <td>False</td>\n",
       "      <td>False</td>\n",
       "      <td>False</td>\n",
       "      <td>False</td>\n",
       "      <td>...</td>\n",
       "      <td>False</td>\n",
       "      <td>False</td>\n",
       "      <td>False</td>\n",
       "      <td>True</td>\n",
       "      <td>False</td>\n",
       "      <td>False</td>\n",
       "      <td>False</td>\n",
       "      <td>False</td>\n",
       "      <td>False</td>\n",
       "      <td>False</td>\n",
       "    </tr>\n",
       "    <tr>\n",
       "      <th>4</th>\n",
       "      <td>False</td>\n",
       "      <td>False</td>\n",
       "      <td>False</td>\n",
       "      <td>False</td>\n",
       "      <td>False</td>\n",
       "      <td>False</td>\n",
       "      <td>False</td>\n",
       "      <td>False</td>\n",
       "      <td>False</td>\n",
       "      <td>False</td>\n",
       "      <td>...</td>\n",
       "      <td>False</td>\n",
       "      <td>False</td>\n",
       "      <td>False</td>\n",
       "      <td>False</td>\n",
       "      <td>False</td>\n",
       "      <td>False</td>\n",
       "      <td>False</td>\n",
       "      <td>False</td>\n",
       "      <td>False</td>\n",
       "      <td>False</td>\n",
       "    </tr>\n",
       "  </tbody>\n",
       "</table>\n",
       "<p>5 rows × 92 columns</p>\n",
       "</div>"
      ],
      "text/plain": [
       "   abdominal pain  acute coronary syndrome  acute kidney injury  \\\n",
       "0           False                    False                False   \n",
       "1           False                    False                False   \n",
       "2           False                    False                False   \n",
       "3           False                    False                False   \n",
       "4           False                    False                False   \n",
       "\n",
       "   acute left heart failure  acute myocardial infarction  acute pharyngitis  \\\n",
       "0                     False                        False              False   \n",
       "1                     False                        False              False   \n",
       "2                     False                        False              False   \n",
       "3                     False                        False              False   \n",
       "4                     False                        False              False   \n",
       "\n",
       "   acute renal failure  acute respiratory disease  \\\n",
       "0                False                      False   \n",
       "1                False                      False   \n",
       "2                False                      False   \n",
       "3                False                      False   \n",
       "4                False                      False   \n",
       "\n",
       "   acute respiratory disease syndrome  acute respiratory distress syndrome  \\\n",
       "0                               False                                False   \n",
       "1                               False                                False   \n",
       "2                               False                                False   \n",
       "3                               False                                False   \n",
       "4                               False                                False   \n",
       "\n",
       "   ...  sore limbs  sore muscle  sore throat  sputum  sweating  \\\n",
       "0  ...       False        False        False    True     False   \n",
       "1  ...       False        False        False   False     False   \n",
       "2  ...       False        False        False   False     False   \n",
       "3  ...       False        False        False    True     False   \n",
       "4  ...       False        False        False   False     False   \n",
       "\n",
       "   systemic weakness  toothache  vomiting  weakness  wheezing  \n",
       "0              False      False     False     False     False  \n",
       "1              False      False     False     False     False  \n",
       "2              False      False     False     False     False  \n",
       "3              False      False     False     False     False  \n",
       "4              False      False     False     False     False  \n",
       "\n",
       "[5 rows x 92 columns]"
      ]
     },
     "execution_count": 24,
     "metadata": {},
     "output_type": "execute_result"
    }
   ],
   "source": [
    "# transform to list of symptoms\n",
    "transform = lambda x: re.findall(r\"\\\"([a-z ]+)\\\"\", x)\n",
    "symptoms_lists = df['Symptoms'].apply(transform)\n",
    "# get the unique symptoms found in the dataset\n",
    "symptoms = np.concatenate(symptoms_lists.values)\n",
    "symptoms = np.unique(symptoms)\n",
    "onehot = np.array([np.in1d(symptoms, list_col) for list_col in symptoms_lists])\n",
    "# create new dataframe using the unique symptoms as column headers\n",
    "onehot_frame = pd.DataFrame(onehot, columns=symptoms)\n",
    "onehot_frame.head()"
   ]
  },
  {
   "cell_type": "code",
   "execution_count": 25,
   "metadata": {},
   "outputs": [
    {
     "data": {
      "text/plain": [
       "<matplotlib.axes._subplots.AxesSubplot at 0x7f69f2450890>"
      ]
     },
     "execution_count": 25,
     "metadata": {},
     "output_type": "execute_result"
    },
    {
     "data": {
      "image/png": "[encoded data removed]",
      "text/plain": [
       "<Figure size 432x288 with 1 Axes>"
      ]
     },
     "metadata": {
      "needs_background": "light"
     },
     "output_type": "display_data"
    }
   ],
   "source": [
    "sum_agg = onehot_frame.astype(float).agg('sum')\n",
    "sum_agg.hist(bins=92)"
   ]
  },
  {
   "cell_type": "code",
   "execution_count": 26,
   "metadata": {},
   "outputs": [
    {
     "data": {
      "text/plain": [
       "fever                                  1031.0\n",
       "cough                                   577.0\n",
       "mild symptoms                           184.0\n",
       "sore throat                             118.0\n",
       "pneumonia                               109.0\n",
       "fatigue                                  82.0\n",
       "malaise                                  79.0\n",
       "headache                                 74.0\n",
       "rhinorrhea                               73.0\n",
       "myalgias                                 69.0\n",
       "shortness of breath                      65.0\n",
       "sputum                                   49.0\n",
       "chills                                   41.0\n",
       "pneumonitis                              40.0\n",
       "acute respiratory distress syndrome      37.0\n",
       "dtype: float64"
      ]
     },
     "execution_count": 26,
     "metadata": {},
     "output_type": "execute_result"
    }
   ],
   "source": [
    "sum_agg.sort_values(ascending=False).head(15)"
   ]
  },
  {
   "cell_type": "code",
   "execution_count": 27,
   "metadata": {},
   "outputs": [],
   "source": [
    "symptoms_dropped = df.drop(columns=['Symptoms'], axis=1)\n",
    "df = pd.concat([symptoms_dropped, onehot_frame], axis=1)"
   ]
  },
  {
   "cell_type": "code",
   "execution_count": 28,
   "metadata": {},
   "outputs": [
    {
     "data": {
      "text/html": [
       "<div>\n",
       "<style scoped>\n",
       "    .dataframe tbody tr th:only-of-type {\n",
       "        vertical-align: middle;\n",
       "    }\n",
       "\n",
       "    .dataframe tbody tr th {\n",
       "        vertical-align: top;\n",
       "    }\n",
       "\n",
       "    .dataframe thead th {\n",
       "        text-align: right;\n",
       "    }\n",
       "</style>\n",
       "<table border=\"1\" class=\"dataframe\">\n",
       "  <thead>\n",
       "    <tr style=\"text-align: right;\">\n",
       "      <th></th>\n",
       "      <th>Age</th>\n",
       "      <th>Sex</th>\n",
       "      <th>DateOfConfirmation</th>\n",
       "      <th>LivesInWuhan</th>\n",
       "      <th>LivesInWuhanComment</th>\n",
       "      <th>TravelHistoryDates</th>\n",
       "      <th>ReportedMarketExposure</th>\n",
       "      <th>ReportedMarketExposureComment</th>\n",
       "      <th>ChronicDiseaseQ</th>\n",
       "      <th>ChronicDiseases</th>\n",
       "      <th>...</th>\n",
       "      <th>sore limbs</th>\n",
       "      <th>sore muscle</th>\n",
       "      <th>sore throat</th>\n",
       "      <th>sputum</th>\n",
       "      <th>sweating</th>\n",
       "      <th>systemic weakness</th>\n",
       "      <th>toothache</th>\n",
       "      <th>vomiting</th>\n",
       "      <th>weakness</th>\n",
       "      <th>wheezing</th>\n",
       "    </tr>\n",
       "  </thead>\n",
       "  <tbody>\n",
       "    <tr>\n",
       "      <th>0</th>\n",
       "      <td>48</td>\n",
       "      <td>Female</td>\n",
       "      <td>Missing[\"NotAvailable\"]</td>\n",
       "      <td>True</td>\n",
       "      <td>Missing[\"NotAvailable\"]</td>\n",
       "      <td>Missing[\"NotAvailable\"]</td>\n",
       "      <td>Missing[\"NotAvailable\"]</td>\n",
       "      <td>Missing[\"NotAvailable\"]</td>\n",
       "      <td>True</td>\n",
       "      <td>{\"diabetes\", \"cerebral infarction\"}</td>\n",
       "      <td>...</td>\n",
       "      <td>False</td>\n",
       "      <td>False</td>\n",
       "      <td>False</td>\n",
       "      <td>True</td>\n",
       "      <td>False</td>\n",
       "      <td>False</td>\n",
       "      <td>False</td>\n",
       "      <td>False</td>\n",
       "      <td>False</td>\n",
       "      <td>False</td>\n",
       "    </tr>\n",
       "    <tr>\n",
       "      <th>1</th>\n",
       "      <td>51</td>\n",
       "      <td>Female</td>\n",
       "      <td>Missing[\"NotAvailable\"]</td>\n",
       "      <td>Missing[\"NotAvailable\"]</td>\n",
       "      <td>Missing[\"NotAvailable\"]</td>\n",
       "      <td>Missing[\"NotAvailable\"]</td>\n",
       "      <td>Missing[\"NotAvailable\"]</td>\n",
       "      <td>Missing[\"NotAvailable\"]</td>\n",
       "      <td>False</td>\n",
       "      <td>Missing[\"NotAvailable\"]</td>\n",
       "      <td>...</td>\n",
       "      <td>False</td>\n",
       "      <td>False</td>\n",
       "      <td>False</td>\n",
       "      <td>False</td>\n",
       "      <td>False</td>\n",
       "      <td>False</td>\n",
       "      <td>False</td>\n",
       "      <td>False</td>\n",
       "      <td>False</td>\n",
       "      <td>False</td>\n",
       "    </tr>\n",
       "    <tr>\n",
       "      <th>2</th>\n",
       "      <td>61</td>\n",
       "      <td>Male</td>\n",
       "      <td>Missing[\"NotAvailable\"]</td>\n",
       "      <td>True</td>\n",
       "      <td>Missing[\"NotAvailable\"]</td>\n",
       "      <td>Missing[\"NotAvailable\"]</td>\n",
       "      <td>Missing[\"NotAvailable\"]</td>\n",
       "      <td>Missing[\"NotAvailable\"]</td>\n",
       "      <td>False</td>\n",
       "      <td>Missing[\"NotAvailable\"]</td>\n",
       "      <td>...</td>\n",
       "      <td>False</td>\n",
       "      <td>False</td>\n",
       "      <td>False</td>\n",
       "      <td>False</td>\n",
       "      <td>False</td>\n",
       "      <td>False</td>\n",
       "      <td>False</td>\n",
       "      <td>False</td>\n",
       "      <td>False</td>\n",
       "      <td>False</td>\n",
       "    </tr>\n",
       "    <tr>\n",
       "      <th>3</th>\n",
       "      <td>58</td>\n",
       "      <td>Male</td>\n",
       "      <td>Missing[\"NotAvailable\"]</td>\n",
       "      <td>True</td>\n",
       "      <td>Missing[\"NotAvailable\"]</td>\n",
       "      <td>Missing[\"NotAvailable\"]</td>\n",
       "      <td>Missing[\"NotAvailable\"]</td>\n",
       "      <td>Missing[\"NotAvailable\"]</td>\n",
       "      <td>False</td>\n",
       "      <td>Missing[\"NotAvailable\"]</td>\n",
       "      <td>...</td>\n",
       "      <td>False</td>\n",
       "      <td>False</td>\n",
       "      <td>False</td>\n",
       "      <td>True</td>\n",
       "      <td>False</td>\n",
       "      <td>False</td>\n",
       "      <td>False</td>\n",
       "      <td>False</td>\n",
       "      <td>False</td>\n",
       "      <td>False</td>\n",
       "    </tr>\n",
       "    <tr>\n",
       "      <th>4</th>\n",
       "      <td>66</td>\n",
       "      <td>Male</td>\n",
       "      <td>Missing[\"NotAvailable\"]</td>\n",
       "      <td>True</td>\n",
       "      <td>Missing[\"NotAvailable\"]</td>\n",
       "      <td>Missing[\"NotAvailable\"]</td>\n",
       "      <td>Missing[\"NotAvailable\"]</td>\n",
       "      <td>Missing[\"NotAvailable\"]</td>\n",
       "      <td>False</td>\n",
       "      <td>Missing[\"NotAvailable\"]</td>\n",
       "      <td>...</td>\n",
       "      <td>False</td>\n",
       "      <td>False</td>\n",
       "      <td>False</td>\n",
       "      <td>False</td>\n",
       "      <td>False</td>\n",
       "      <td>False</td>\n",
       "      <td>False</td>\n",
       "      <td>False</td>\n",
       "      <td>False</td>\n",
       "      <td>False</td>\n",
       "    </tr>\n",
       "  </tbody>\n",
       "</table>\n",
       "<p>5 rows × 472 columns</p>\n",
       "</div>"
      ],
      "text/plain": [
       "   Age     Sex       DateOfConfirmation             LivesInWuhan  \\\n",
       "0   48  Female  Missing[\"NotAvailable\"]                     True   \n",
       "1   51  Female  Missing[\"NotAvailable\"]  Missing[\"NotAvailable\"]   \n",
       "2   61    Male  Missing[\"NotAvailable\"]                     True   \n",
       "3   58    Male  Missing[\"NotAvailable\"]                     True   \n",
       "4   66    Male  Missing[\"NotAvailable\"]                     True   \n",
       "\n",
       "       LivesInWuhanComment       TravelHistoryDates   ReportedMarketExposure  \\\n",
       "0  Missing[\"NotAvailable\"]  Missing[\"NotAvailable\"]  Missing[\"NotAvailable\"]   \n",
       "1  Missing[\"NotAvailable\"]  Missing[\"NotAvailable\"]  Missing[\"NotAvailable\"]   \n",
       "2  Missing[\"NotAvailable\"]  Missing[\"NotAvailable\"]  Missing[\"NotAvailable\"]   \n",
       "3  Missing[\"NotAvailable\"]  Missing[\"NotAvailable\"]  Missing[\"NotAvailable\"]   \n",
       "4  Missing[\"NotAvailable\"]  Missing[\"NotAvailable\"]  Missing[\"NotAvailable\"]   \n",
       "\n",
       "  ReportedMarketExposureComment  ChronicDiseaseQ  \\\n",
       "0       Missing[\"NotAvailable\"]             True   \n",
       "1       Missing[\"NotAvailable\"]            False   \n",
       "2       Missing[\"NotAvailable\"]            False   \n",
       "3       Missing[\"NotAvailable\"]            False   \n",
       "4       Missing[\"NotAvailable\"]            False   \n",
       "\n",
       "                       ChronicDiseases  ... sore limbs sore muscle  \\\n",
       "0  {\"diabetes\", \"cerebral infarction\"}  ...      False       False   \n",
       "1              Missing[\"NotAvailable\"]  ...      False       False   \n",
       "2              Missing[\"NotAvailable\"]  ...      False       False   \n",
       "3              Missing[\"NotAvailable\"]  ...      False       False   \n",
       "4              Missing[\"NotAvailable\"]  ...      False       False   \n",
       "\n",
       "  sore throat sputum sweating  systemic weakness  toothache  vomiting  \\\n",
       "0       False   True    False              False      False     False   \n",
       "1       False  False    False              False      False     False   \n",
       "2       False  False    False              False      False     False   \n",
       "3       False   True    False              False      False     False   \n",
       "4       False  False    False              False      False     False   \n",
       "\n",
       "   weakness  wheezing  \n",
       "0     False     False  \n",
       "1     False     False  \n",
       "2     False     False  \n",
       "3     False     False  \n",
       "4     False     False  \n",
       "\n",
       "[5 rows x 472 columns]"
      ]
     },
     "execution_count": 28,
     "metadata": {},
     "output_type": "execute_result"
    }
   ],
   "source": [
    "df.head()"
   ]
  },
  {
   "cell_type": "markdown",
   "metadata": {},
   "source": [
    "### One hot encoding for chronic diseases"
   ]
  },
  {
   "cell_type": "code",
   "execution_count": 29,
   "metadata": {},
   "outputs": [
    {
     "data": {
      "text/html": [
       "<div>\n",
       "<style scoped>\n",
       "    .dataframe tbody tr th:only-of-type {\n",
       "        vertical-align: middle;\n",
       "    }\n",
       "\n",
       "    .dataframe tbody tr th {\n",
       "        vertical-align: top;\n",
       "    }\n",
       "\n",
       "    .dataframe thead th {\n",
       "        text-align: right;\n",
       "    }\n",
       "</style>\n",
       "<table border=\"1\" class=\"dataframe\">\n",
       "  <thead>\n",
       "    <tr style=\"text-align: right;\">\n",
       "      <th></th>\n",
       "      <th>asthma</th>\n",
       "      <th>atherosclerosis</th>\n",
       "      <th>atrial fibrillation</th>\n",
       "      <th>benign prostatic hyperplasia</th>\n",
       "      <th>benign prostatic hypertrophy</th>\n",
       "      <th>bronchial asthma</th>\n",
       "      <th>cardiac disease</th>\n",
       "      <th>cardiac dysrhythmia</th>\n",
       "      <th>cardiomyopathy</th>\n",
       "      <th>cardiovascular disease</th>\n",
       "      <th>...</th>\n",
       "      <th>on dialysis</th>\n",
       "      <th>prerenal azotemia</th>\n",
       "      <th>prostate cancer</th>\n",
       "      <th>prostate hypertrophy</th>\n",
       "      <th>stenocardia</th>\n",
       "      <th>systemic arterial hypertension</th>\n",
       "      <th>tongue cancer</th>\n",
       "      <th>tuberculosis</th>\n",
       "      <th>upper gastrointestinal bleeding</th>\n",
       "      <th>valvular heart disease</th>\n",
       "    </tr>\n",
       "  </thead>\n",
       "  <tbody>\n",
       "    <tr>\n",
       "      <th>0</th>\n",
       "      <td>False</td>\n",
       "      <td>False</td>\n",
       "      <td>False</td>\n",
       "      <td>False</td>\n",
       "      <td>False</td>\n",
       "      <td>False</td>\n",
       "      <td>False</td>\n",
       "      <td>False</td>\n",
       "      <td>False</td>\n",
       "      <td>False</td>\n",
       "      <td>...</td>\n",
       "      <td>False</td>\n",
       "      <td>False</td>\n",
       "      <td>False</td>\n",
       "      <td>False</td>\n",
       "      <td>False</td>\n",
       "      <td>False</td>\n",
       "      <td>False</td>\n",
       "      <td>False</td>\n",
       "      <td>False</td>\n",
       "      <td>False</td>\n",
       "    </tr>\n",
       "    <tr>\n",
       "      <th>1</th>\n",
       "      <td>False</td>\n",
       "      <td>False</td>\n",
       "      <td>False</td>\n",
       "      <td>False</td>\n",
       "      <td>False</td>\n",
       "      <td>False</td>\n",
       "      <td>False</td>\n",
       "      <td>False</td>\n",
       "      <td>False</td>\n",
       "      <td>False</td>\n",
       "      <td>...</td>\n",
       "      <td>False</td>\n",
       "      <td>False</td>\n",
       "      <td>False</td>\n",
       "      <td>False</td>\n",
       "      <td>False</td>\n",
       "      <td>False</td>\n",
       "      <td>False</td>\n",
       "      <td>False</td>\n",
       "      <td>False</td>\n",
       "      <td>False</td>\n",
       "    </tr>\n",
       "    <tr>\n",
       "      <th>2</th>\n",
       "      <td>False</td>\n",
       "      <td>False</td>\n",
       "      <td>False</td>\n",
       "      <td>False</td>\n",
       "      <td>False</td>\n",
       "      <td>False</td>\n",
       "      <td>False</td>\n",
       "      <td>False</td>\n",
       "      <td>False</td>\n",
       "      <td>False</td>\n",
       "      <td>...</td>\n",
       "      <td>False</td>\n",
       "      <td>False</td>\n",
       "      <td>False</td>\n",
       "      <td>False</td>\n",
       "      <td>False</td>\n",
       "      <td>False</td>\n",
       "      <td>False</td>\n",
       "      <td>False</td>\n",
       "      <td>False</td>\n",
       "      <td>False</td>\n",
       "    </tr>\n",
       "    <tr>\n",
       "      <th>3</th>\n",
       "      <td>False</td>\n",
       "      <td>False</td>\n",
       "      <td>False</td>\n",
       "      <td>False</td>\n",
       "      <td>False</td>\n",
       "      <td>False</td>\n",
       "      <td>False</td>\n",
       "      <td>False</td>\n",
       "      <td>False</td>\n",
       "      <td>False</td>\n",
       "      <td>...</td>\n",
       "      <td>False</td>\n",
       "      <td>False</td>\n",
       "      <td>False</td>\n",
       "      <td>False</td>\n",
       "      <td>False</td>\n",
       "      <td>False</td>\n",
       "      <td>False</td>\n",
       "      <td>False</td>\n",
       "      <td>False</td>\n",
       "      <td>False</td>\n",
       "    </tr>\n",
       "    <tr>\n",
       "      <th>4</th>\n",
       "      <td>False</td>\n",
       "      <td>False</td>\n",
       "      <td>False</td>\n",
       "      <td>False</td>\n",
       "      <td>False</td>\n",
       "      <td>False</td>\n",
       "      <td>False</td>\n",
       "      <td>False</td>\n",
       "      <td>False</td>\n",
       "      <td>False</td>\n",
       "      <td>...</td>\n",
       "      <td>False</td>\n",
       "      <td>False</td>\n",
       "      <td>False</td>\n",
       "      <td>False</td>\n",
       "      <td>False</td>\n",
       "      <td>False</td>\n",
       "      <td>False</td>\n",
       "      <td>False</td>\n",
       "      <td>False</td>\n",
       "      <td>False</td>\n",
       "    </tr>\n",
       "  </tbody>\n",
       "</table>\n",
       "<p>5 rows × 49 columns</p>\n",
       "</div>"
      ],
      "text/plain": [
       "   asthma  atherosclerosis  atrial fibrillation  benign prostatic hyperplasia  \\\n",
       "0   False            False                False                         False   \n",
       "1   False            False                False                         False   \n",
       "2   False            False                False                         False   \n",
       "3   False            False                False                         False   \n",
       "4   False            False                False                         False   \n",
       "\n",
       "   benign prostatic hypertrophy  bronchial asthma  cardiac disease  \\\n",
       "0                         False             False            False   \n",
       "1                         False             False            False   \n",
       "2                         False             False            False   \n",
       "3                         False             False            False   \n",
       "4                         False             False            False   \n",
       "\n",
       "   cardiac dysrhythmia  cardiomyopathy  cardiovascular disease  ...  \\\n",
       "0                False           False                   False  ...   \n",
       "1                False           False                   False  ...   \n",
       "2                False           False                   False  ...   \n",
       "3                False           False                   False  ...   \n",
       "4                False           False                   False  ...   \n",
       "\n",
       "   on dialysis  prerenal azotemia  prostate cancer  prostate hypertrophy  \\\n",
       "0        False              False            False                 False   \n",
       "1        False              False            False                 False   \n",
       "2        False              False            False                 False   \n",
       "3        False              False            False                 False   \n",
       "4        False              False            False                 False   \n",
       "\n",
       "   stenocardia  systemic arterial hypertension  tongue cancer  tuberculosis  \\\n",
       "0        False                           False          False         False   \n",
       "1        False                           False          False         False   \n",
       "2        False                           False          False         False   \n",
       "3        False                           False          False         False   \n",
       "4        False                           False          False         False   \n",
       "\n",
       "   upper gastrointestinal bleeding  valvular heart disease  \n",
       "0                            False                   False  \n",
       "1                            False                   False  \n",
       "2                            False                   False  \n",
       "3                            False                   False  \n",
       "4                            False                   False  \n",
       "\n",
       "[5 rows x 49 columns]"
      ]
     },
     "execution_count": 29,
     "metadata": {},
     "output_type": "execute_result"
    }
   ],
   "source": [
    "# transform to list of symptoms\n",
    "transform = lambda x: re.findall(r\"\\\"([a-z ]+)\\\"\", x)\n",
    "diseases_lists = df['ChronicDiseases'].apply(transform)\n",
    "# get the unique symptoms found in the dataset\n",
    "diseases = np.concatenate(diseases_lists.values)\n",
    "diseases = np.unique(diseases)\n",
    "onehot = np.array([np.in1d(diseases, list_col) for list_col in diseases_lists])\n",
    "# create new dataframe using the unique diseases as column headers\n",
    "onehot_frame = pd.DataFrame(onehot, columns=diseases)\n",
    "onehot_frame.head()"
   ]
  },
  {
   "cell_type": "code",
   "execution_count": 30,
   "metadata": {},
   "outputs": [
    {
     "data": {
      "text/plain": [
       "<matplotlib.axes._subplots.AxesSubplot at 0x7f69f2176390>"
      ]
     },
     "execution_count": 30,
     "metadata": {},
     "output_type": "execute_result"
    },
    {
     "data": {
      "image/png": "[encoded data removed]",
      "text/plain": [
       "<Figure size 432x288 with 1 Axes>"
      ]
     },
     "metadata": {
      "needs_background": "light"
     },
     "output_type": "display_data"
    }
   ],
   "source": [
    "sum_agg = onehot_frame.astype(float).agg('sum')\n",
    "sum_agg.hist(bins=49)"
   ]
  },
  {
   "cell_type": "code",
   "execution_count": 31,
   "metadata": {},
   "outputs": [
    {
     "data": {
      "text/plain": [
       "hypertension                             100.0\n",
       "diabetes                                  70.0\n",
       "chronic kidney disease                    13.0\n",
       "asthma                                     9.0\n",
       "coronary heart disease                     9.0\n",
       "chronic obstructive pulmonary disease      7.0\n",
       "cardiac disease                            5.0\n",
       "kidney disease                             4.0\n",
       "chronic bronchitis                         4.0\n",
       "coronary stent                             4.0\n",
       "dtype: float64"
      ]
     },
     "execution_count": 31,
     "metadata": {},
     "output_type": "execute_result"
    }
   ],
   "source": [
    "sum_agg.sort_values(ascending=False).head(10)"
   ]
  },
  {
   "cell_type": "code",
   "execution_count": 32,
   "metadata": {},
   "outputs": [],
   "source": [
    "diseases_dropped = df.drop(columns=['ChronicDiseases', 'ChronicDiseaseQ'], axis=1)\n",
    "df = pd.concat([diseases_dropped, onehot_frame], axis=1)"
   ]
  },
  {
   "cell_type": "code",
   "execution_count": 33,
   "metadata": {},
   "outputs": [
    {
     "data": {
      "text/html": [
       "<div>\n",
       "<style scoped>\n",
       "    .dataframe tbody tr th:only-of-type {\n",
       "        vertical-align: middle;\n",
       "    }\n",
       "\n",
       "    .dataframe tbody tr th {\n",
       "        vertical-align: top;\n",
       "    }\n",
       "\n",
       "    .dataframe thead th {\n",
       "        text-align: right;\n",
       "    }\n",
       "</style>\n",
       "<table border=\"1\" class=\"dataframe\">\n",
       "  <thead>\n",
       "    <tr style=\"text-align: right;\">\n",
       "      <th></th>\n",
       "      <th>Age</th>\n",
       "      <th>Sex</th>\n",
       "      <th>DateOfConfirmation</th>\n",
       "      <th>LivesInWuhan</th>\n",
       "      <th>LivesInWuhanComment</th>\n",
       "      <th>TravelHistoryDates</th>\n",
       "      <th>ReportedMarketExposure</th>\n",
       "      <th>ReportedMarketExposureComment</th>\n",
       "      <th>SequenceAvailable</th>\n",
       "      <th>DischargedQ</th>\n",
       "      <th>...</th>\n",
       "      <th>on dialysis</th>\n",
       "      <th>prerenal azotemia</th>\n",
       "      <th>prostate cancer</th>\n",
       "      <th>prostate hypertrophy</th>\n",
       "      <th>stenocardia</th>\n",
       "      <th>systemic arterial hypertension</th>\n",
       "      <th>tongue cancer</th>\n",
       "      <th>tuberculosis</th>\n",
       "      <th>upper gastrointestinal bleeding</th>\n",
       "      <th>valvular heart disease</th>\n",
       "    </tr>\n",
       "  </thead>\n",
       "  <tbody>\n",
       "    <tr>\n",
       "      <th>0</th>\n",
       "      <td>48</td>\n",
       "      <td>Female</td>\n",
       "      <td>Missing[\"NotAvailable\"]</td>\n",
       "      <td>True</td>\n",
       "      <td>Missing[\"NotAvailable\"]</td>\n",
       "      <td>Missing[\"NotAvailable\"]</td>\n",
       "      <td>Missing[\"NotAvailable\"]</td>\n",
       "      <td>Missing[\"NotAvailable\"]</td>\n",
       "      <td>Missing[\"NotAvailable\"]</td>\n",
       "      <td>Missing[\"NotAvailable\"]</td>\n",
       "      <td>...</td>\n",
       "      <td>False</td>\n",
       "      <td>False</td>\n",
       "      <td>False</td>\n",
       "      <td>False</td>\n",
       "      <td>False</td>\n",
       "      <td>False</td>\n",
       "      <td>False</td>\n",
       "      <td>False</td>\n",
       "      <td>False</td>\n",
       "      <td>False</td>\n",
       "    </tr>\n",
       "    <tr>\n",
       "      <th>1</th>\n",
       "      <td>51</td>\n",
       "      <td>Female</td>\n",
       "      <td>Missing[\"NotAvailable\"]</td>\n",
       "      <td>Missing[\"NotAvailable\"]</td>\n",
       "      <td>Missing[\"NotAvailable\"]</td>\n",
       "      <td>Missing[\"NotAvailable\"]</td>\n",
       "      <td>Missing[\"NotAvailable\"]</td>\n",
       "      <td>Missing[\"NotAvailable\"]</td>\n",
       "      <td>Missing[\"NotAvailable\"]</td>\n",
       "      <td>Missing[\"NotAvailable\"]</td>\n",
       "      <td>...</td>\n",
       "      <td>False</td>\n",
       "      <td>False</td>\n",
       "      <td>False</td>\n",
       "      <td>False</td>\n",
       "      <td>False</td>\n",
       "      <td>False</td>\n",
       "      <td>False</td>\n",
       "      <td>False</td>\n",
       "      <td>False</td>\n",
       "      <td>False</td>\n",
       "    </tr>\n",
       "    <tr>\n",
       "      <th>2</th>\n",
       "      <td>61</td>\n",
       "      <td>Male</td>\n",
       "      <td>Missing[\"NotAvailable\"]</td>\n",
       "      <td>True</td>\n",
       "      <td>Missing[\"NotAvailable\"]</td>\n",
       "      <td>Missing[\"NotAvailable\"]</td>\n",
       "      <td>Missing[\"NotAvailable\"]</td>\n",
       "      <td>Missing[\"NotAvailable\"]</td>\n",
       "      <td>True</td>\n",
       "      <td>Missing[\"NotAvailable\"]</td>\n",
       "      <td>...</td>\n",
       "      <td>False</td>\n",
       "      <td>False</td>\n",
       "      <td>False</td>\n",
       "      <td>False</td>\n",
       "      <td>False</td>\n",
       "      <td>False</td>\n",
       "      <td>False</td>\n",
       "      <td>False</td>\n",
       "      <td>False</td>\n",
       "      <td>False</td>\n",
       "    </tr>\n",
       "    <tr>\n",
       "      <th>3</th>\n",
       "      <td>58</td>\n",
       "      <td>Male</td>\n",
       "      <td>Missing[\"NotAvailable\"]</td>\n",
       "      <td>True</td>\n",
       "      <td>Missing[\"NotAvailable\"]</td>\n",
       "      <td>Missing[\"NotAvailable\"]</td>\n",
       "      <td>Missing[\"NotAvailable\"]</td>\n",
       "      <td>Missing[\"NotAvailable\"]</td>\n",
       "      <td>Missing[\"NotAvailable\"]</td>\n",
       "      <td>Missing[\"NotAvailable\"]</td>\n",
       "      <td>...</td>\n",
       "      <td>False</td>\n",
       "      <td>False</td>\n",
       "      <td>False</td>\n",
       "      <td>False</td>\n",
       "      <td>False</td>\n",
       "      <td>False</td>\n",
       "      <td>False</td>\n",
       "      <td>False</td>\n",
       "      <td>False</td>\n",
       "      <td>False</td>\n",
       "    </tr>\n",
       "    <tr>\n",
       "      <th>4</th>\n",
       "      <td>66</td>\n",
       "      <td>Male</td>\n",
       "      <td>Missing[\"NotAvailable\"]</td>\n",
       "      <td>True</td>\n",
       "      <td>Missing[\"NotAvailable\"]</td>\n",
       "      <td>Missing[\"NotAvailable\"]</td>\n",
       "      <td>Missing[\"NotAvailable\"]</td>\n",
       "      <td>Missing[\"NotAvailable\"]</td>\n",
       "      <td>Missing[\"NotAvailable\"]</td>\n",
       "      <td>Missing[\"NotAvailable\"]</td>\n",
       "      <td>...</td>\n",
       "      <td>False</td>\n",
       "      <td>False</td>\n",
       "      <td>False</td>\n",
       "      <td>False</td>\n",
       "      <td>False</td>\n",
       "      <td>False</td>\n",
       "      <td>False</td>\n",
       "      <td>False</td>\n",
       "      <td>False</td>\n",
       "      <td>False</td>\n",
       "    </tr>\n",
       "  </tbody>\n",
       "</table>\n",
       "<p>5 rows × 519 columns</p>\n",
       "</div>"
      ],
      "text/plain": [
       "   Age     Sex       DateOfConfirmation             LivesInWuhan  \\\n",
       "0   48  Female  Missing[\"NotAvailable\"]                     True   \n",
       "1   51  Female  Missing[\"NotAvailable\"]  Missing[\"NotAvailable\"]   \n",
       "2   61    Male  Missing[\"NotAvailable\"]                     True   \n",
       "3   58    Male  Missing[\"NotAvailable\"]                     True   \n",
       "4   66    Male  Missing[\"NotAvailable\"]                     True   \n",
       "\n",
       "       LivesInWuhanComment       TravelHistoryDates   ReportedMarketExposure  \\\n",
       "0  Missing[\"NotAvailable\"]  Missing[\"NotAvailable\"]  Missing[\"NotAvailable\"]   \n",
       "1  Missing[\"NotAvailable\"]  Missing[\"NotAvailable\"]  Missing[\"NotAvailable\"]   \n",
       "2  Missing[\"NotAvailable\"]  Missing[\"NotAvailable\"]  Missing[\"NotAvailable\"]   \n",
       "3  Missing[\"NotAvailable\"]  Missing[\"NotAvailable\"]  Missing[\"NotAvailable\"]   \n",
       "4  Missing[\"NotAvailable\"]  Missing[\"NotAvailable\"]  Missing[\"NotAvailable\"]   \n",
       "\n",
       "  ReportedMarketExposureComment        SequenceAvailable  \\\n",
       "0       Missing[\"NotAvailable\"]  Missing[\"NotAvailable\"]   \n",
       "1       Missing[\"NotAvailable\"]  Missing[\"NotAvailable\"]   \n",
       "2       Missing[\"NotAvailable\"]                     True   \n",
       "3       Missing[\"NotAvailable\"]  Missing[\"NotAvailable\"]   \n",
       "4       Missing[\"NotAvailable\"]  Missing[\"NotAvailable\"]   \n",
       "\n",
       "               DischargedQ  ... on dialysis prerenal azotemia prostate cancer  \\\n",
       "0  Missing[\"NotAvailable\"]  ...       False             False           False   \n",
       "1  Missing[\"NotAvailable\"]  ...       False             False           False   \n",
       "2  Missing[\"NotAvailable\"]  ...       False             False           False   \n",
       "3  Missing[\"NotAvailable\"]  ...       False             False           False   \n",
       "4  Missing[\"NotAvailable\"]  ...       False             False           False   \n",
       "\n",
       "   prostate hypertrophy  stenocardia  systemic arterial hypertension  \\\n",
       "0                 False        False                           False   \n",
       "1                 False        False                           False   \n",
       "2                 False        False                           False   \n",
       "3                 False        False                           False   \n",
       "4                 False        False                           False   \n",
       "\n",
       "   tongue cancer  tuberculosis  upper gastrointestinal bleeding  \\\n",
       "0          False         False                            False   \n",
       "1          False         False                            False   \n",
       "2          False         False                            False   \n",
       "3          False         False                            False   \n",
       "4          False         False                            False   \n",
       "\n",
       "   valvular heart disease  \n",
       "0                   False  \n",
       "1                   False  \n",
       "2                   False  \n",
       "3                   False  \n",
       "4                   False  \n",
       "\n",
       "[5 rows x 519 columns]"
      ]
     },
     "execution_count": 33,
     "metadata": {},
     "output_type": "execute_result"
    }
   ],
   "source": [
    "df.head()"
   ]
  },
  {
   "cell_type": "code",
   "execution_count": 34,
   "metadata": {},
   "outputs": [],
   "source": [
    "# drop useless features\n",
    "df = df.drop(columns=['LivesInWuhanComment', 'TravelHistoryDates', \n",
    "                      'ReportedMarketExposureComment', 'SequenceAvailable',\n",
    "                      'DateOfConfirmation', 'DischargedQ',\n",
    "                      'DateOfDeath', 'DateOfDischarge'], axis=1)"
   ]
  },
  {
   "cell_type": "code",
   "execution_count": 35,
   "metadata": {},
   "outputs": [],
   "source": [
    "replacer = {'Missing[\"NotAvailable\"]': False, 'False': False, 'True': True}\n",
    "columns = ['LivesInWuhan', 'ReportedMarketExposure', 'DeathQ']\n",
    "\n",
    "for column in columns:\n",
    "    df[column] = df[column].replace(replacer)\n",
    "\n",
    "df['Sex'] = df['Sex'].replace({'Male': False, 'Female': True})"
   ]
  },
  {
   "cell_type": "code",
   "execution_count": 36,
   "metadata": {},
   "outputs": [
    {
     "name": "stdout",
     "output_type": "stream",
     "text": [
      "Preprocessed dataset:\n"
     ]
    },
    {
     "data": {
      "text/html": [
       "<div>\n",
       "<style scoped>\n",
       "    .dataframe tbody tr th:only-of-type {\n",
       "        vertical-align: middle;\n",
       "    }\n",
       "\n",
       "    .dataframe tbody tr th {\n",
       "        vertical-align: top;\n",
       "    }\n",
       "\n",
       "    .dataframe thead th {\n",
       "        text-align: right;\n",
       "    }\n",
       "</style>\n",
       "<table border=\"1\" class=\"dataframe\">\n",
       "  <thead>\n",
       "    <tr style=\"text-align: right;\">\n",
       "      <th></th>\n",
       "      <th>Age</th>\n",
       "      <th>Sex</th>\n",
       "      <th>LivesInWuhan</th>\n",
       "      <th>ReportedMarketExposure</th>\n",
       "      <th>DeathQ</th>\n",
       "      <th>Entity[\"AdministrativeDivision\", {\"AbuDhabi\", \"UnitedArabEmirates\"}]</th>\n",
       "      <th>Entity[\"AdministrativeDivision\", {\"Accra\", \"GreaterAccra\", \"Ghana\"}]</th>\n",
       "      <th>Entity[\"AdministrativeDivision\", {\"AddisAbaba\", \"Ethiopia\"}]</th>\n",
       "      <th>Entity[\"AdministrativeDivision\", {\"Aichi\", \"Japan\"}]</th>\n",
       "      <th>Entity[\"AdministrativeDivision\", {\"Alabama\", \"UnitedStates\"}]</th>\n",
       "      <th>...</th>\n",
       "      <th>on dialysis</th>\n",
       "      <th>prerenal azotemia</th>\n",
       "      <th>prostate cancer</th>\n",
       "      <th>prostate hypertrophy</th>\n",
       "      <th>stenocardia</th>\n",
       "      <th>systemic arterial hypertension</th>\n",
       "      <th>tongue cancer</th>\n",
       "      <th>tuberculosis</th>\n",
       "      <th>upper gastrointestinal bleeding</th>\n",
       "      <th>valvular heart disease</th>\n",
       "    </tr>\n",
       "  </thead>\n",
       "  <tbody>\n",
       "    <tr>\n",
       "      <th>0</th>\n",
       "      <td>48</td>\n",
       "      <td>1</td>\n",
       "      <td>1</td>\n",
       "      <td>0</td>\n",
       "      <td>1</td>\n",
       "      <td>0</td>\n",
       "      <td>0</td>\n",
       "      <td>0</td>\n",
       "      <td>0</td>\n",
       "      <td>0</td>\n",
       "      <td>...</td>\n",
       "      <td>0</td>\n",
       "      <td>0</td>\n",
       "      <td>0</td>\n",
       "      <td>0</td>\n",
       "      <td>0</td>\n",
       "      <td>0</td>\n",
       "      <td>0</td>\n",
       "      <td>0</td>\n",
       "      <td>0</td>\n",
       "      <td>0</td>\n",
       "    </tr>\n",
       "    <tr>\n",
       "      <th>1</th>\n",
       "      <td>51</td>\n",
       "      <td>1</td>\n",
       "      <td>0</td>\n",
       "      <td>0</td>\n",
       "      <td>1</td>\n",
       "      <td>0</td>\n",
       "      <td>0</td>\n",
       "      <td>0</td>\n",
       "      <td>0</td>\n",
       "      <td>0</td>\n",
       "      <td>...</td>\n",
       "      <td>0</td>\n",
       "      <td>0</td>\n",
       "      <td>0</td>\n",
       "      <td>0</td>\n",
       "      <td>0</td>\n",
       "      <td>0</td>\n",
       "      <td>0</td>\n",
       "      <td>0</td>\n",
       "      <td>0</td>\n",
       "      <td>0</td>\n",
       "    </tr>\n",
       "    <tr>\n",
       "      <th>2</th>\n",
       "      <td>61</td>\n",
       "      <td>0</td>\n",
       "      <td>1</td>\n",
       "      <td>0</td>\n",
       "      <td>1</td>\n",
       "      <td>0</td>\n",
       "      <td>0</td>\n",
       "      <td>0</td>\n",
       "      <td>0</td>\n",
       "      <td>0</td>\n",
       "      <td>...</td>\n",
       "      <td>0</td>\n",
       "      <td>0</td>\n",
       "      <td>0</td>\n",
       "      <td>0</td>\n",
       "      <td>0</td>\n",
       "      <td>0</td>\n",
       "      <td>0</td>\n",
       "      <td>0</td>\n",
       "      <td>0</td>\n",
       "      <td>0</td>\n",
       "    </tr>\n",
       "    <tr>\n",
       "      <th>3</th>\n",
       "      <td>58</td>\n",
       "      <td>0</td>\n",
       "      <td>1</td>\n",
       "      <td>0</td>\n",
       "      <td>1</td>\n",
       "      <td>0</td>\n",
       "      <td>0</td>\n",
       "      <td>0</td>\n",
       "      <td>0</td>\n",
       "      <td>0</td>\n",
       "      <td>...</td>\n",
       "      <td>0</td>\n",
       "      <td>0</td>\n",
       "      <td>0</td>\n",
       "      <td>0</td>\n",
       "      <td>0</td>\n",
       "      <td>0</td>\n",
       "      <td>0</td>\n",
       "      <td>0</td>\n",
       "      <td>0</td>\n",
       "      <td>0</td>\n",
       "    </tr>\n",
       "    <tr>\n",
       "      <th>4</th>\n",
       "      <td>66</td>\n",
       "      <td>0</td>\n",
       "      <td>1</td>\n",
       "      <td>0</td>\n",
       "      <td>1</td>\n",
       "      <td>0</td>\n",
       "      <td>0</td>\n",
       "      <td>0</td>\n",
       "      <td>0</td>\n",
       "      <td>0</td>\n",
       "      <td>...</td>\n",
       "      <td>0</td>\n",
       "      <td>0</td>\n",
       "      <td>0</td>\n",
       "      <td>0</td>\n",
       "      <td>0</td>\n",
       "      <td>0</td>\n",
       "      <td>0</td>\n",
       "      <td>0</td>\n",
       "      <td>0</td>\n",
       "      <td>0</td>\n",
       "    </tr>\n",
       "  </tbody>\n",
       "</table>\n",
       "<p>5 rows × 511 columns</p>\n",
       "</div>"
      ],
      "text/plain": [
       "   Age  Sex  LivesInWuhan  ReportedMarketExposure  DeathQ  \\\n",
       "0   48    1             1                       0       1   \n",
       "1   51    1             0                       0       1   \n",
       "2   61    0             1                       0       1   \n",
       "3   58    0             1                       0       1   \n",
       "4   66    0             1                       0       1   \n",
       "\n",
       "   Entity[\"AdministrativeDivision\", {\"AbuDhabi\", \"UnitedArabEmirates\"}]  \\\n",
       "0                                                  0                      \n",
       "1                                                  0                      \n",
       "2                                                  0                      \n",
       "3                                                  0                      \n",
       "4                                                  0                      \n",
       "\n",
       "   Entity[\"AdministrativeDivision\", {\"Accra\", \"GreaterAccra\", \"Ghana\"}]  \\\n",
       "0                                                  0                      \n",
       "1                                                  0                      \n",
       "2                                                  0                      \n",
       "3                                                  0                      \n",
       "4                                                  0                      \n",
       "\n",
       "   Entity[\"AdministrativeDivision\", {\"AddisAbaba\", \"Ethiopia\"}]  \\\n",
       "0                                                  0              \n",
       "1                                                  0              \n",
       "2                                                  0              \n",
       "3                                                  0              \n",
       "4                                                  0              \n",
       "\n",
       "   Entity[\"AdministrativeDivision\", {\"Aichi\", \"Japan\"}]  \\\n",
       "0                                                  0      \n",
       "1                                                  0      \n",
       "2                                                  0      \n",
       "3                                                  0      \n",
       "4                                                  0      \n",
       "\n",
       "   Entity[\"AdministrativeDivision\", {\"Alabama\", \"UnitedStates\"}]  ...  \\\n",
       "0                                                  0              ...   \n",
       "1                                                  0              ...   \n",
       "2                                                  0              ...   \n",
       "3                                                  0              ...   \n",
       "4                                                  0              ...   \n",
       "\n",
       "   on dialysis  prerenal azotemia  prostate cancer  prostate hypertrophy  \\\n",
       "0            0                  0                0                     0   \n",
       "1            0                  0                0                     0   \n",
       "2            0                  0                0                     0   \n",
       "3            0                  0                0                     0   \n",
       "4            0                  0                0                     0   \n",
       "\n",
       "   stenocardia  systemic arterial hypertension  tongue cancer  tuberculosis  \\\n",
       "0            0                               0              0             0   \n",
       "1            0                               0              0             0   \n",
       "2            0                               0              0             0   \n",
       "3            0                               0              0             0   \n",
       "4            0                               0              0             0   \n",
       "\n",
       "   upper gastrointestinal bleeding  valvular heart disease  \n",
       "0                                0                       0  \n",
       "1                                0                       0  \n",
       "2                                0                       0  \n",
       "3                                0                       0  \n",
       "4                                0                       0  \n",
       "\n",
       "[5 rows x 511 columns]"
      ]
     },
     "execution_count": 36,
     "metadata": {},
     "output_type": "execute_result"
    }
   ],
   "source": [
    "print('Preprocessed dataset:')\n",
    "# Convert from boolean to int notation\n",
    "df = df * 1\n",
    "df.head()"
   ]
  },
  {
   "cell_type": "code",
   "execution_count": 37,
   "metadata": {},
   "outputs": [],
   "source": [
    "#correlation_mat = df.corr()"
   ]
  },
  {
   "cell_type": "markdown",
   "metadata": {},
   "source": [
    "As expected, the features are not strongly correlated, apart from chronic diseases/symptoms as seen in the bottom right corner(they were the last ones appended to the dataframe)."
   ]
  },
  {
   "cell_type": "code",
   "execution_count": 38,
   "metadata": {},
   "outputs": [],
   "source": [
    "#plt.matshow(correlation_mat)"
   ]
  },
  {
   "cell_type": "code",
   "execution_count": 39,
   "metadata": {},
   "outputs": [],
   "source": [
    "df_x = df.drop('DeathQ', axis=1).copy()\n",
    "df_y = df['DeathQ'].copy()"
   ]
  },
  {
   "cell_type": "code",
   "execution_count": 40,
   "metadata": {},
   "outputs": [],
   "source": [
    "minmax_scaling = lambda x: (x - x.min()) / (x.max() - x.min())"
   ]
  },
  {
   "cell_type": "markdown",
   "metadata": {},
   "source": [
    "#### Scale number features between 0 and 1"
   ]
  },
  {
   "cell_type": "code",
   "execution_count": 41,
   "metadata": {},
   "outputs": [],
   "source": [
    "nbr_cols = ['Age', 'SymptomsAdmissionDelta', 'Latitude', 'Longitude']\n",
    "\n",
    "for col in nbr_cols:\n",
    "    df_x[col] = minmax_scaling(df_x[col])"
   ]
  },
  {
   "cell_type": "code",
   "execution_count": 42,
   "metadata": {},
   "outputs": [],
   "source": [
    "from sklearn.linear_model import LogisticRegression\n",
    "from sklearn.model_selection import cross_val_score, KFold, train_test_split, validation_curve\n",
    "from sklearn import metrics\n",
    "import seaborn as sns"
   ]
  },
  {
   "cell_type": "code",
   "execution_count": 43,
   "metadata": {},
   "outputs": [
    {
     "name": "stderr",
     "output_type": "stream",
     "text": [
      "[Parallel(n_jobs=-1)]: Using backend LokyBackend with 4 concurrent workers.\n",
      "[Parallel(n_jobs=-1)]: Done   1 out of   1 | elapsed:   10.7s finished\n"
     ]
    },
    {
     "data": {
      "text/plain": [
       "LogisticRegression(C=5.5, class_weight=None, dual=False, fit_intercept=True,\n",
       "                   intercept_scaling=1, l1_ratio=None, max_iter=100,\n",
       "                   multi_class='auto', n_jobs=-1, penalty='l2', random_state=42,\n",
       "                   solver='lbfgs', tol=0.0001, verbose=1, warm_start=False)"
      ]
     },
     "execution_count": 43,
     "metadata": {},
     "output_type": "execute_result"
    }
   ],
   "source": [
    "X = df_x.values\n",
    "y = df_y.values\n",
    "X_train, X_test, y_train, y_test = train_test_split(X, y, test_size=0.2, random_state=42)\n",
    "model = LogisticRegression(n_jobs=-1, verbose=1, random_state=42, max_iter=100,  penalty='l2', C=5.5)\n",
    "model.fit(X_train, y_train)\n",
    "\n",
    "#kfolding = KFold(n_splits=10, shuffle=True, random_state=42)\n",
    "#score = cross_val_score(model, X, y, n_jobs=4, cv=kfolding, scoring=\"accuracy\")"
   ]
  },
  {
   "cell_type": "code",
   "execution_count": 44,
   "metadata": {},
   "outputs": [
    {
     "data": {
      "text/plain": [
       "0.9961479198767335"
      ]
     },
     "execution_count": 44,
     "metadata": {},
     "output_type": "execute_result"
    }
   ],
   "source": [
    "model.score(X_test, y_test)"
   ]
  },
  {
   "cell_type": "code",
   "execution_count": 45,
   "metadata": {},
   "outputs": [],
   "source": [
    "#predictions = model.predict_proba(X_test)"
   ]
  },
  {
   "cell_type": "code",
   "execution_count": 46,
   "metadata": {},
   "outputs": [],
   "source": [
    "#metrics.log_loss(y, predictions)"
   ]
  },
  {
   "cell_type": "code",
   "execution_count": 47,
   "metadata": {},
   "outputs": [
    {
     "data": {
      "text/plain": [
       "<matplotlib.axes._subplots.AxesSubplot at 0x7f69e9e58f10>"
      ]
     },
     "execution_count": 47,
     "metadata": {},
     "output_type": "execute_result"
    },
    {
     "data": {
      "image/png": "[encoded data removed]",
      "text/plain": [
       "<Figure size 432x288 with 2 Axes>"
      ]
     },
     "metadata": {
      "needs_background": "light"
     },
     "output_type": "display_data"
    }
   ],
   "source": [
    "y_pred = model.predict(X_test)\n",
    "conf = metrics.confusion_matrix(y_test, y_pred)\n",
    "sns.heatmap(conf, annot=True, fmt='d')"
   ]
  },
  {
   "cell_type": "code",
   "execution_count": 48,
   "metadata": {},
   "outputs": [],
   "source": [
    "def compute_f1_scores_4conf_mat(conf_mat):\n",
    "  table = []\n",
    "  n = conf_mat.shape[0]\n",
    "\n",
    "  for i in range(n):\n",
    "    correct = conf_mat[i, i]\n",
    "    precision = correct / conf_mat[:, i].sum()\n",
    "    recall    = correct / conf_mat[i, :].sum()\n",
    "    f1 = 2 * precision * recall / (precision + recall)\n",
    "    table.append([precision, recall, f1])\n",
    "  return np.array(table)"
   ]
  },
  {
   "cell_type": "code",
   "execution_count": 49,
   "metadata": {},
   "outputs": [
    {
     "data": {
      "text/plain": [
       "array([[0.99638989, 0.99974127, 0.99806277],\n",
       "       [0.9375    , 0.51724138, 0.66666667]])"
      ]
     },
     "execution_count": 49,
     "metadata": {},
     "output_type": "execute_result"
    }
   ],
   "source": [
    "compute_f1_scores_4conf_mat(conf)"
   ]
  },
  {
   "cell_type": "markdown",
   "metadata": {},
   "source": [
    "#### Trying to unsample negative entries"
   ]
  },
  {
   "cell_type": "code",
   "execution_count": 50,
   "metadata": {},
   "outputs": [],
   "source": [
    "from sklearn.model_selection import train_test_split\n",
    "from sklearn.utils import resample"
   ]
  },
  {
   "cell_type": "code",
   "execution_count": 51,
   "metadata": {},
   "outputs": [],
   "source": [
    "df_train = pd.concat([pd.DataFrame(X_train), \n",
    "                      pd.DataFrame(y_train, columns=['y'])], \n",
    "                      axis=1)"
   ]
  },
  {
   "cell_type": "code",
   "execution_count": 52,
   "metadata": {},
   "outputs": [],
   "source": [
    "neg = df_train[df_train['y'] == 0]\n",
    "pos = df_train[df_train['y'] == 1]"
   ]
  },
  {
   "cell_type": "code",
   "execution_count": 53,
   "metadata": {},
   "outputs": [],
   "source": [
    "neg_downsampled = resample(neg,\n",
    " replace=True, # sample with replacement\n",
    " n_samples=len(pos) * 3,\n",
    " random_state=42)"
   ]
  },
  {
   "cell_type": "code",
   "execution_count": 54,
   "metadata": {},
   "outputs": [
    {
     "data": {
      "text/plain": [
       "0    363\n",
       "1    121\n",
       "Name: y, dtype: int64"
      ]
     },
     "execution_count": 54,
     "metadata": {},
     "output_type": "execute_result"
    }
   ],
   "source": [
    "downsampled = pd.concat([neg_downsampled, pos])\n",
    "downsampled['y'].value_counts()"
   ]
  },
  {
   "cell_type": "code",
   "execution_count": 55,
   "metadata": {},
   "outputs": [
    {
     "name": "stderr",
     "output_type": "stream",
     "text": [
      "[Parallel(n_jobs=-1)]: Using backend LokyBackend with 4 concurrent workers.\n",
      "[Parallel(n_jobs=-1)]: Done   1 out of   1 | elapsed:    0.5s finished\n"
     ]
    },
    {
     "data": {
      "text/plain": [
       "LogisticRegression(C=5.5, class_weight=None, dual=False, fit_intercept=True,\n",
       "                   intercept_scaling=1, l1_ratio=None, max_iter=100,\n",
       "                   multi_class='auto', n_jobs=-1, penalty='l2', random_state=42,\n",
       "                   solver='lbfgs', tol=0.0001, verbose=1, warm_start=False)"
      ]
     },
     "execution_count": 55,
     "metadata": {},
     "output_type": "execute_result"
    }
   ],
   "source": [
    "X_train = downsampled.drop(columns=['y']).copy()\n",
    "y_train = downsampled['y'].copy()\n",
    "model2 = LogisticRegression(n_jobs=-1, verbose=1, random_state=42, max_iter=100,  penalty='l2', C=5.5)\n",
    "model2.fit(X_train, y_train)"
   ]
  },
  {
   "cell_type": "code",
   "execution_count": 56,
   "metadata": {},
   "outputs": [
    {
     "data": {
      "text/plain": [
       "0.9915254237288136"
      ]
     },
     "execution_count": 56,
     "metadata": {},
     "output_type": "execute_result"
    }
   ],
   "source": [
    "model2.score(X_test, y_test)"
   ]
  },
  {
   "cell_type": "code",
   "execution_count": 57,
   "metadata": {},
   "outputs": [
    {
     "data": {
      "text/plain": [
       "<matplotlib.axes._subplots.AxesSubplot at 0x7f69e8d33750>"
      ]
     },
     "execution_count": 57,
     "metadata": {},
     "output_type": "execute_result"
    },
    {
     "data": {
      "image/png": "[encoded data removed]",
      "text/plain": [
       "<Figure size 432x288 with 2 Axes>"
      ]
     },
     "metadata": {
      "needs_background": "light"
     },
     "output_type": "display_data"
    }
   ],
   "source": [
    "y_pred = model2.predict(X_test)\n",
    "conf = metrics.confusion_matrix(y_test, y_pred)\n",
    "sns.heatmap(conf, annot=True, fmt='d')"
   ]
  },
  {
   "cell_type": "code",
   "execution_count": 58,
   "metadata": {},
   "outputs": [
    {
     "data": {
      "text/plain": [
       "array([[0.99817993, 0.99327296, 0.9957204 ],\n",
       "       [0.45833333, 0.75862069, 0.57142857]])"
      ]
     },
     "execution_count": 58,
     "metadata": {},
     "output_type": "execute_result"
    }
   ],
   "source": [
    "compute_f1_scores_4conf_mat(conf)"
   ]
  },
  {
   "cell_type": "markdown",
   "metadata": {},
   "source": [
    "#### Trying different class weights"
   ]
  },
  {
   "cell_type": "code",
   "execution_count": 59,
   "metadata": {},
   "outputs": [
    {
     "name": "stderr",
     "output_type": "stream",
     "text": [
      "[Parallel(n_jobs=-1)]: Using backend LokyBackend with 4 concurrent workers.\n",
      "[Parallel(n_jobs=-1)]: Done   1 out of   1 | elapsed:    4.4s finished\n"
     ]
    },
    {
     "data": {
      "text/plain": [
       "LogisticRegression(C=1.5, class_weight={0: 0.01, 1: 0.99}, dual=False,\n",
       "                   fit_intercept=True, intercept_scaling=1, l1_ratio=None,\n",
       "                   max_iter=100, multi_class='auto', n_jobs=-1, penalty='l2',\n",
       "                   random_state=42, solver='lbfgs', tol=0.0001, verbose=1,\n",
       "                   warm_start=False)"
      ]
     },
     "execution_count": 59,
     "metadata": {},
     "output_type": "execute_result"
    }
   ],
   "source": [
    "X = df_x.values\n",
    "y = df_y.values\n",
    "X_train, X_test, y_train, y_test = train_test_split(X, y, test_size=0.2, \n",
    "                                                    random_state=42)\n",
    "class_weights = {0: 1e-2, 1: 99e-2}\n",
    "model3 = LogisticRegression(n_jobs=-1, verbose=1, \n",
    "                           random_state=42, max_iter=100,  \n",
    "                           penalty='l2', C=1.5, class_weight=class_weights)\n",
    "model3.fit(X_train, y_train)"
   ]
  },
  {
   "cell_type": "code",
   "execution_count": 60,
   "metadata": {},
   "outputs": [
    {
     "data": {
      "text/plain": [
       "0.9861325115562404"
      ]
     },
     "execution_count": 60,
     "metadata": {},
     "output_type": "execute_result"
    }
   ],
   "source": [
    "model3.score(X_test, y_test)"
   ]
  },
  {
   "cell_type": "code",
   "execution_count": 61,
   "metadata": {},
   "outputs": [
    {
     "data": {
      "text/plain": [
       "<matplotlib.axes._subplots.AxesSubplot at 0x7f69f279db50>"
      ]
     },
     "execution_count": 61,
     "metadata": {},
     "output_type": "execute_result"
    },
    {
     "data": {
      "image/png": "[encoded data removed]",
      "text/plain": [
       "<Figure size 432x288 with 2 Axes>"
      ]
     },
     "metadata": {
      "needs_background": "light"
     },
     "output_type": "display_data"
    }
   ],
   "source": [
    "y_pred = model3.predict(X_test)\n",
    "conf = metrics.confusion_matrix(y_test, y_pred)\n",
    "sns.heatmap(conf, annot=True, fmt='d')"
   ]
  },
  {
   "cell_type": "code",
   "execution_count": 62,
   "metadata": {},
   "outputs": [
    {
     "data": {
      "text/plain": [
       "array([[0.99843055, 0.98758085, 0.99297607],\n",
       "       [0.32394366, 0.79310345, 0.46      ]])"
      ]
     },
     "execution_count": 62,
     "metadata": {},
     "output_type": "execute_result"
    }
   ],
   "source": [
    "compute_f1_scores_4conf_mat(conf)"
   ]
  },
  {
   "cell_type": "markdown",
   "metadata": {},
   "source": [
    "#### Ensambling resampled datasets"
   ]
  },
  {
   "cell_type": "code",
   "execution_count": 63,
   "metadata": {},
   "outputs": [],
   "source": [
    "df_train = pd.concat([pd.DataFrame(X_train), \n",
    "                      pd.DataFrame(y_train, columns=['y'])], \n",
    "                      axis=1)\n",
    "                      \n",
    "neg = df_train[df_train['y'] == 0]\n",
    "pos = df_train[df_train['y'] == 1]"
   ]
  },
  {
   "cell_type": "markdown",
   "metadata": {},
   "source": [
    "#### Using the a 1:4 pos/neg ratio"
   ]
  },
  {
   "cell_type": "code",
   "execution_count": 64,
   "metadata": {},
   "outputs": [
    {
     "name": "stdout",
     "output_type": "stream",
     "text": [
      "Will ensemble 32.0 models\n"
     ]
    }
   ],
   "source": [
    "ratio = 4\n",
    "count = np.ceil(len(neg) / len(pos) / ratio)\n",
    "print(f'Will ensemble {count} models')"
   ]
  },
  {
   "cell_type": "code",
   "execution_count": 65,
   "metadata": {},
   "outputs": [],
   "source": [
    "neg_shuffled = neg.values\n",
    "np.random.shuffle(neg_shuffled)\n",
    "neg_partitions = np.array_split(neg_shuffled, count, axis=0)"
   ]
  },
  {
   "cell_type": "code",
   "execution_count": 66,
   "metadata": {},
   "outputs": [
    {
     "name": "stdout",
     "output_type": "stream",
     "text": [
      "32 (483, 511)\n"
     ]
    }
   ],
   "source": [
    "print(len(neg_partitions), neg_partitions[0].shape)"
   ]
  },
  {
   "cell_type": "code",
   "execution_count": 67,
   "metadata": {},
   "outputs": [],
   "source": [
    "def best_partition_model(neg_partitions, pos):\n",
    "    best = (None, 1e-10)\n",
    "    for index, partition in enumerate(neg_partitions, start=0):\n",
    "        dataset = np.concatenate((partition, pos.values), axis=0)\n",
    "        # drop the y column\n",
    "        y = dataset[:,  -1]\n",
    "        X = dataset[:, :-1]\n",
    "        np.random.shuffle(X_train)\n",
    "        model = LogisticRegression(n_jobs=-1, verbose=0, random_state=42, \n",
    "                                   max_iter=100,  penalty='l2', C=2.5)\n",
    "        model.fit(X, y)\n",
    "\n",
    "        y_pred = model.predict(X_test)\n",
    "        conf = metrics.confusion_matrix(y_test, y_pred)\n",
    "        scores = compute_f1_scores_4conf_mat(conf)\n",
    "        recall = scores[1, 1] # recall score for positive class\n",
    "\n",
    "        if recall > best[1]:\n",
    "            best = (model, recall)\n",
    "        if index % 10 == 0:\n",
    "            print(f'Progress: {index} / {count}')\n",
    "    return best"
   ]
  },
  {
   "cell_type": "code",
   "execution_count": 68,
   "metadata": {},
   "outputs": [
    {
     "name": "stdout",
     "output_type": "stream",
     "text": [
      "Progress: 0 / 32.0\n",
      "Progress: 10 / 32.0\n",
      "Progress: 20 / 32.0\n",
      "Progress: 30 / 32.0\n",
      "(LogisticRegression(C=2.5, class_weight=None, dual=False, fit_intercept=True,\n",
      "                   intercept_scaling=1, l1_ratio=None, max_iter=100,\n",
      "                   multi_class='auto', n_jobs=-1, penalty='l2', random_state=42,\n",
      "                   solver='lbfgs', tol=0.0001, verbose=0, warm_start=False), 0.7241379310344828)\n"
     ]
    }
   ],
   "source": [
    "best = best_partition_model(neg_partitions, pos)\n",
    "print(best)"
   ]
  },
  {
   "cell_type": "code",
   "execution_count": 69,
   "metadata": {},
   "outputs": [
    {
     "data": {
      "text/plain": [
       "0.9899845916795069"
      ]
     },
     "execution_count": 69,
     "metadata": {},
     "output_type": "execute_result"
    }
   ],
   "source": [
    "best[0].score(X_test, y_test)"
   ]
  },
  {
   "cell_type": "code",
   "execution_count": 70,
   "metadata": {},
   "outputs": [
    {
     "data": {
      "text/plain": [
       "<matplotlib.axes._subplots.AxesSubplot at 0x7f69e8d9e350>"
      ]
     },
     "execution_count": 70,
     "metadata": {},
     "output_type": "execute_result"
    },
    {
     "data": {
      "image/png": "[encoded data removed]",
      "text/plain": [
       "<Figure size 432x288 with 2 Axes>"
      ]
     },
     "metadata": {
      "needs_background": "light"
     },
     "output_type": "display_data"
    }
   ],
   "source": [
    "conf = metrics.confusion_matrix(y_test, best[0].predict(X_test))\n",
    "sns.heatmap(conf, annot=True, fmt='d')"
   ]
  },
  {
   "cell_type": "code",
   "execution_count": 71,
   "metadata": {},
   "outputs": [
    {
     "data": {
      "text/plain": [
       "array([[0.99791775, 0.9919793 , 0.99493967],\n",
       "       [0.40384615, 0.72413793, 0.51851852]])"
      ]
     },
     "execution_count": 71,
     "metadata": {},
     "output_type": "execute_result"
    }
   ],
   "source": [
    "compute_f1_scores_4conf_mat(conf)"
   ]
  },
  {
   "cell_type": "markdown",
   "metadata": {},
   "source": [
    "#### Use K-Nearest-Neighbors for ensembling datasets"
   ]
  },
  {
   "cell_type": "code",
   "execution_count": 72,
   "metadata": {},
   "outputs": [],
   "source": [
    "from sklearn.cluster import KMeans"
   ]
  },
  {
   "cell_type": "code",
   "execution_count": 73,
   "metadata": {},
   "outputs": [],
   "source": [
    "kmeans = KMeans(n_clusters=31, random_state=42, \n",
    "                n_jobs=-1, max_iter=100, verbose=1)"
   ]
  },
  {
   "cell_type": "code",
   "execution_count": 74,
   "metadata": {},
   "outputs": [
    {
     "data": {
      "text/plain": [
       "KMeans(algorithm='auto', copy_x=True, init='k-means++', max_iter=100,\n",
       "       n_clusters=31, n_init=10, n_jobs=-1, precompute_distances='auto',\n",
       "       random_state=42, tol=0.0001, verbose=1)"
      ]
     },
     "execution_count": 74,
     "metadata": {},
     "output_type": "execute_result"
    }
   ],
   "source": [
    "kmeans.fit(neg.values)"
   ]
  },
  {
   "cell_type": "code",
   "execution_count": 77,
   "metadata": {},
   "outputs": [
    {
     "data": {
      "text/plain": [
       "(array([ 5,  4,  0, ..., 25,  0, 25], dtype=int32), (15452,), 31)"
      ]
     },
     "execution_count": 77,
     "metadata": {},
     "output_type": "execute_result"
    }
   ],
   "source": [
    "kmeans.labels_, kmeans.labels_.shape, kmeans.n_clusters"
   ]
  },
  {
   "cell_type": "code",
   "execution_count": 82,
   "metadata": {},
   "outputs": [],
   "source": [
    "partitions = [neg.values[np.in1d(kmeans.labels_, cluster), :] for cluster in range(kmeans.n_clusters)]"
   ]
  },
  {
   "cell_type": "code",
   "execution_count": 85,
   "metadata": {},
   "outputs": [
    {
     "name": "stdout",
     "output_type": "stream",
     "text": [
      "(1745, 511) (1204, 511) (152, 511) (247, 511) (1961, 511) (2000, 511) (1444, 511) (185, 511) (544, 511) (276, 511) (316, 511) (153, 511) (128, 511) (132, 511) (247, 511) (725, 511) (260, 511) (157, 511) (39, 511) (205, 511) (107, 511) (138, 511) (83, 511) (76, 511) (91, 511) (2205, 511) (142, 511) (139, 511) (155, 511) (132, 511) (64, 511)\n"
     ]
    }
   ],
   "source": [
    "print(' '.join([str(x.shape) for x in partitions]))"
   ]
  },
  {
   "cell_type": "code",
   "execution_count": 87,
   "metadata": {},
   "outputs": [
    {
     "name": "stdout",
     "output_type": "stream",
     "text": [
      "Progress: 0 / 32.0\n",
      "Progress: 10 / 32.0\n",
      "Progress: 20 / 32.0\n",
      "Progress: 30 / 32.0\n",
      "(LogisticRegression(C=2.5, class_weight=None, dual=False, fit_intercept=True,\n",
      "                   intercept_scaling=1, l1_ratio=None, max_iter=100,\n",
      "                   multi_class='auto', n_jobs=-1, penalty='l2', random_state=42,\n",
      "                   solver='lbfgs', tol=0.0001, verbose=0, warm_start=False), 0.7241379310344828)\n"
     ]
    }
   ],
   "source": [
    "best2 = best_partition_model(partitions, pos)\n",
    "print(best)"
   ]
  },
  {
   "cell_type": "code",
   "execution_count": 89,
   "metadata": {},
   "outputs": [
    {
     "data": {
      "text/plain": [
       "0.049563430919363126"
      ]
     },
     "execution_count": 89,
     "metadata": {},
     "output_type": "execute_result"
    }
   ],
   "source": [
    "best2[0].score(X_test, y_test)"
   ]
  },
  {
   "cell_type": "markdown",
   "metadata": {},
   "source": [
    "#### Perfect recall for positive results, horrible accuracy and f1 scores"
   ]
  },
  {
   "cell_type": "code",
   "execution_count": 88,
   "metadata": {},
   "outputs": [
    {
     "data": {
      "text/plain": [
       "<matplotlib.axes._subplots.AxesSubplot at 0x7f69db94cf10>"
      ]
     },
     "execution_count": 88,
     "metadata": {},
     "output_type": "execute_result"
    },
    {
     "data": {
      "image/png": "[encoded data removed]",
      "text/plain": [
       "<Figure size 432x288 with 2 Axes>"
      ]
     },
     "metadata": {
      "needs_background": "light"
     },
     "output_type": "display_data"
    }
   ],
   "source": [
    "conf = metrics.confusion_matrix(y_test, best2[0].predict(X_test))\n",
    "sns.heatmap(conf, annot=True, fmt='d')"
   ]
  },
  {
   "cell_type": "code",
   "execution_count": 90,
   "metadata": {},
   "outputs": [
    {
     "data": {
      "text/plain": [
       "array([[1.        , 0.04243208, 0.08140978],\n",
       "       [0.0077748 , 1.        , 0.01542964]])"
      ]
     },
     "execution_count": 90,
     "metadata": {},
     "output_type": "execute_result"
    }
   ],
   "source": [
    "compute_f1_scores_4conf_mat(conf)"
   ]
  }
 ],
 "metadata": {
  "kernelspec": {
   "display_name": "Python 3.7.6 64-bit ('si': conda)",
   "language": "python",
   "name": "python37664bitsicondab72af9aab1a745ac8e94d9ea4d382c78"
  },
  "language_info": {
   "codemirror_mode": {
    "name": "ipython",
    "version": 3
   },
   "file_extension": ".py",
   "mimetype": "text/x-python",
   "name": "python",
   "nbconvert_exporter": "python",
   "pygments_lexer": "ipython3",
   "version": "3.7.6"
  }
 },
 "nbformat": 4,
 "nbformat_minor": 4
}
